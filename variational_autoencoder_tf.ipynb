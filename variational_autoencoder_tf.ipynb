{
  "nbformat": 4,
  "nbformat_minor": 0,
  "metadata": {
    "colab": {
      "name": "variational-autoencoder-tf.ipynb",
      "provenance": []
    },
    "kernelspec": {
      "name": "python3",
      "display_name": "Python 3"
    }
  },
  "cells": [
    {
      "cell_type": "code",
      "metadata": {
        "id": "u0xKLq5An0_0",
        "colab_type": "code",
        "colab": {}
      },
      "source": [
        "import tensorflow as tf"
      ],
      "execution_count": 0,
      "outputs": []
    },
    {
      "cell_type": "markdown",
      "metadata": {
        "id": "l-7_HfDB0RCr",
        "colab_type": "text"
      },
      "source": [
        "### Implementation of simple Variational Autoencoder with TensorFlow"
      ]
    },
    {
      "cell_type": "code",
      "metadata": {
        "id": "oVl6cgnIoe1K",
        "colab_type": "code",
        "colab": {}
      },
      "source": [
        "class SimpleVAE:\n",
        "\n",
        "  def __init__(self, latent_dim):\n",
        "    self.latent_dim = latent_dim\n",
        "    self._conv_common_params = {\n",
        "        'kernel_size': 3,\n",
        "        'strides': (3, 3),\n",
        "        'padding': 'same',\n",
        "        'activation': 'relu'\n",
        "        }\n",
        "\n",
        "  @property\n",
        "  def encoder(self):\n",
        "    input = tf.keras.layers.InputLayer(input_shape=(None, 28, 28))\n",
        "\n",
        "    x = tf.keras.layers.Conv2D(filters=16, **self._conv_common_params)(x)\n",
        "    x = tf.keras.layers.Conv2D(filters=32, **self._conv_common_params)(x)\n",
        "    x = tf.keras.layers.Conv2D(filters=32, **self._conv_common_params)(x)\n",
        "    \n",
        "    x = tf.keras.layers.Flatten()(x)\n",
        "    \n",
        "    # reparametrisarion trick\n",
        "    mean   = tf.keras.layers.Dense(units=self.latent_dim)(x)\n",
        "    logvar = tf.keras.layers.Dense(units=self.latent_dim)(x)\n",
        "\n",
        "    epsilon = tf.random.normal(shape=mean.shape)\n",
        "    z = mean + tf.exp(logvar / 2) * epsilon\n",
        "\n",
        "    return tf.keras.models.Model(input, [mean, logvar, z], name='encoder')"
      ],
      "execution_count": 0,
      "outputs": []
    }
  ]
}