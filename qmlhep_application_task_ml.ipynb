{
  "nbformat": 4,
  "nbformat_minor": 0,
  "metadata": {
    "kernelspec": {
      "display_name": "Python 3",
      "language": "python",
      "name": "python3"
    },
    "language_info": {
      "codemirror_mode": {
        "name": "ipython",
        "version": 3
      },
      "file_extension": ".py",
      "mimetype": "text/x-python",
      "name": "python",
      "nbconvert_exporter": "python",
      "pygments_lexer": "ipython3",
      "version": "3.5.2"
    },
    "colab": {
      "name": "qmlhep_application_task_ml.ipynb",
      "provenance": [],
      "collapsed_sections": [],
      "toc_visible": true
    }
  },
  "cells": [
    {
      "cell_type": "markdown",
      "metadata": {
        "id": "oB631jbVHV8R",
        "colab_type": "text"
      },
      "source": [
        "## GSoC 2020 Student Application Test\n",
        "#### CERN Project: Quantum Machine Learning for High Energy Physic\n",
        "\n",
        "\n",
        "You will explore how best to apply machine learning algorithms, for example, Neural Network, Boosted Decision Tree (BDT), Support Vector Machine(SVM) to solve a High Energy Data analysis issue, more specifically,  separating the signal events from the background events.\n",
        "\n",
        "A set of input samples (simulated with Delphes) is provided in NumPy NPZ format. In the input file, there are only 100 samples for training and 100 samples for testing so it won’t take much computing resources to accomplish this task. The signal events are labeled with 1 while the background sample are labeled with 0.\n",
        "\n",
        "You can apply one machine learning algorithm to this input but be sure to show that you understand how to fine tune your machine learning model to improve the performance. The performance can be evaluated with classification accuracy or Area Under ROC Curve (AUC)."
      ]
    },
    {
      "cell_type": "markdown",
      "metadata": {
        "id": "shYFxahfHV8Y",
        "colab_type": "text"
      },
      "source": [
        "#### Loading data"
      ]
    },
    {
      "cell_type": "code",
      "metadata": {
        "id": "D1jOONOCHV8a",
        "colab_type": "code",
        "colab": {}
      },
      "source": [
        "import numpy as np\n",
        "import pandas as pd\n",
        "import matplotlib.pyplot as plt\n",
        "\n",
        "file = np.load('QIS_EXAM_200Events.npz', allow_pickle=True)\n",
        "\n",
        "train_dataset = file['training_input'].item()\n",
        "test_dataset = file['test_input'].item()"
      ],
      "execution_count": 0,
      "outputs": []
    },
    {
      "cell_type": "markdown",
      "metadata": {
        "id": "YTYblB_6HV8h",
        "colab_type": "text"
      },
      "source": [
        "#### Data investigation"
      ]
    },
    {
      "cell_type": "code",
      "metadata": {
        "id": "9owtmcYsHV8i",
        "colab_type": "code",
        "outputId": "797ef207-f1e1-4370-894a-ef97d2b0cf05",
        "colab": {
          "base_uri": "https://localhost:8080/",
          "height": 284
        }
      },
      "source": [
        "df_train_0 = pd.DataFrame(train_dataset['0'])\n",
        "df_test_0  = pd.DataFrame(test_dataset['0'])\n",
        "\n",
        "df_train_0.describe()"
      ],
      "execution_count": 2,
      "outputs": [
        {
          "output_type": "execute_result",
          "data": {
            "text/html": [
              "<div>\n",
              "<style scoped>\n",
              "    .dataframe tbody tr th:only-of-type {\n",
              "        vertical-align: middle;\n",
              "    }\n",
              "\n",
              "    .dataframe tbody tr th {\n",
              "        vertical-align: top;\n",
              "    }\n",
              "\n",
              "    .dataframe thead th {\n",
              "        text-align: right;\n",
              "    }\n",
              "</style>\n",
              "<table border=\"1\" class=\"dataframe\">\n",
              "  <thead>\n",
              "    <tr style=\"text-align: right;\">\n",
              "      <th></th>\n",
              "      <th>0</th>\n",
              "      <th>1</th>\n",
              "      <th>2</th>\n",
              "      <th>3</th>\n",
              "      <th>4</th>\n",
              "    </tr>\n",
              "  </thead>\n",
              "  <tbody>\n",
              "    <tr>\n",
              "      <th>count</th>\n",
              "      <td>50.000000</td>\n",
              "      <td>50.000000</td>\n",
              "      <td>50.000000</td>\n",
              "      <td>50.000000</td>\n",
              "      <td>50.000000</td>\n",
              "    </tr>\n",
              "    <tr>\n",
              "      <th>mean</th>\n",
              "      <td>-0.454617</td>\n",
              "      <td>-0.103901</td>\n",
              "      <td>-0.224488</td>\n",
              "      <td>-0.796956</td>\n",
              "      <td>-0.576463</td>\n",
              "    </tr>\n",
              "    <tr>\n",
              "      <th>std</th>\n",
              "      <td>0.605700</td>\n",
              "      <td>0.902026</td>\n",
              "      <td>0.652320</td>\n",
              "      <td>0.122736</td>\n",
              "      <td>0.054428</td>\n",
              "    </tr>\n",
              "    <tr>\n",
              "      <th>min</th>\n",
              "      <td>-0.999915</td>\n",
              "      <td>-0.999931</td>\n",
              "      <td>-0.933175</td>\n",
              "      <td>-0.929184</td>\n",
              "      <td>-0.730352</td>\n",
              "    </tr>\n",
              "    <tr>\n",
              "      <th>25%</th>\n",
              "      <td>-0.998979</td>\n",
              "      <td>-0.999337</td>\n",
              "      <td>-0.924206</td>\n",
              "      <td>-0.865289</td>\n",
              "      <td>-0.597834</td>\n",
              "    </tr>\n",
              "    <tr>\n",
              "      <th>50%</th>\n",
              "      <td>-0.431735</td>\n",
              "      <td>-0.193156</td>\n",
              "      <td>0.076867</td>\n",
              "      <td>-0.826015</td>\n",
              "      <td>-0.582649</td>\n",
              "    </tr>\n",
              "    <tr>\n",
              "      <th>75%</th>\n",
              "      <td>-0.426285</td>\n",
              "      <td>0.864718</td>\n",
              "      <td>0.077533</td>\n",
              "      <td>-0.775574</td>\n",
              "      <td>-0.541973</td>\n",
              "    </tr>\n",
              "    <tr>\n",
              "      <th>max</th>\n",
              "      <td>0.919312</td>\n",
              "      <td>0.880835</td>\n",
              "      <td>0.934484</td>\n",
              "      <td>-0.246957</td>\n",
              "      <td>-0.401706</td>\n",
              "    </tr>\n",
              "  </tbody>\n",
              "</table>\n",
              "</div>"
            ],
            "text/plain": [
              "               0          1          2          3          4\n",
              "count  50.000000  50.000000  50.000000  50.000000  50.000000\n",
              "mean   -0.454617  -0.103901  -0.224488  -0.796956  -0.576463\n",
              "std     0.605700   0.902026   0.652320   0.122736   0.054428\n",
              "min    -0.999915  -0.999931  -0.933175  -0.929184  -0.730352\n",
              "25%    -0.998979  -0.999337  -0.924206  -0.865289  -0.597834\n",
              "50%    -0.431735  -0.193156   0.076867  -0.826015  -0.582649\n",
              "75%    -0.426285   0.864718   0.077533  -0.775574  -0.541973\n",
              "max     0.919312   0.880835   0.934484  -0.246957  -0.401706"
            ]
          },
          "metadata": {
            "tags": []
          },
          "execution_count": 2
        }
      ]
    },
    {
      "cell_type": "code",
      "metadata": {
        "id": "5PYLFzOzHV8t",
        "colab_type": "code",
        "outputId": "4a856f05-7046-4177-eb8d-5dca943a7fc4",
        "colab": {
          "base_uri": "https://localhost:8080/",
          "height": 284
        }
      },
      "source": [
        "df_train_1 = pd.DataFrame(train_dataset['1'])\n",
        "df_test_1  = pd.DataFrame(test_dataset['1'])\n",
        "\n",
        "df_train_1.describe()"
      ],
      "execution_count": 3,
      "outputs": [
        {
          "output_type": "execute_result",
          "data": {
            "text/html": [
              "<div>\n",
              "<style scoped>\n",
              "    .dataframe tbody tr th:only-of-type {\n",
              "        vertical-align: middle;\n",
              "    }\n",
              "\n",
              "    .dataframe tbody tr th {\n",
              "        vertical-align: top;\n",
              "    }\n",
              "\n",
              "    .dataframe thead th {\n",
              "        text-align: right;\n",
              "    }\n",
              "</style>\n",
              "<table border=\"1\" class=\"dataframe\">\n",
              "  <thead>\n",
              "    <tr style=\"text-align: right;\">\n",
              "      <th></th>\n",
              "      <th>0</th>\n",
              "      <th>1</th>\n",
              "      <th>2</th>\n",
              "      <th>3</th>\n",
              "      <th>4</th>\n",
              "    </tr>\n",
              "  </thead>\n",
              "  <tbody>\n",
              "    <tr>\n",
              "      <th>count</th>\n",
              "      <td>50.000000</td>\n",
              "      <td>50.000000</td>\n",
              "      <td>50.000000</td>\n",
              "      <td>50.000000</td>\n",
              "      <td>50.000000</td>\n",
              "    </tr>\n",
              "    <tr>\n",
              "      <th>mean</th>\n",
              "      <td>0.330350</td>\n",
              "      <td>-0.201806</td>\n",
              "      <td>-0.156798</td>\n",
              "      <td>-0.675110</td>\n",
              "      <td>-0.540111</td>\n",
              "    </tr>\n",
              "    <tr>\n",
              "      <th>std</th>\n",
              "      <td>0.646656</td>\n",
              "      <td>0.825911</td>\n",
              "      <td>0.760558</td>\n",
              "      <td>0.227266</td>\n",
              "      <td>0.123972</td>\n",
              "    </tr>\n",
              "    <tr>\n",
              "      <th>min</th>\n",
              "      <td>-0.999097</td>\n",
              "      <td>-0.999338</td>\n",
              "      <td>-0.936612</td>\n",
              "      <td>-0.912692</td>\n",
              "      <td>-0.844211</td>\n",
              "    </tr>\n",
              "    <tr>\n",
              "      <th>25%</th>\n",
              "      <td>-0.232165</td>\n",
              "      <td>-0.950013</td>\n",
              "      <td>-0.673098</td>\n",
              "      <td>-0.808118</td>\n",
              "      <td>-0.608291</td>\n",
              "    </tr>\n",
              "    <tr>\n",
              "      <th>50%</th>\n",
              "      <td>0.351122</td>\n",
              "      <td>-0.911842</td>\n",
              "      <td>-0.661179</td>\n",
              "      <td>-0.723618</td>\n",
              "      <td>-0.550558</td>\n",
              "    </tr>\n",
              "    <tr>\n",
              "      <th>75%</th>\n",
              "      <td>0.889373</td>\n",
              "      <td>0.579163</td>\n",
              "      <td>0.918008</td>\n",
              "      <td>-0.617599</td>\n",
              "      <td>-0.507115</td>\n",
              "    </tr>\n",
              "    <tr>\n",
              "      <th>max</th>\n",
              "      <td>0.933783</td>\n",
              "      <td>0.886309</td>\n",
              "      <td>0.932132</td>\n",
              "      <td>0.155652</td>\n",
              "      <td>-0.169384</td>\n",
              "    </tr>\n",
              "  </tbody>\n",
              "</table>\n",
              "</div>"
            ],
            "text/plain": [
              "               0          1          2          3          4\n",
              "count  50.000000  50.000000  50.000000  50.000000  50.000000\n",
              "mean    0.330350  -0.201806  -0.156798  -0.675110  -0.540111\n",
              "std     0.646656   0.825911   0.760558   0.227266   0.123972\n",
              "min    -0.999097  -0.999338  -0.936612  -0.912692  -0.844211\n",
              "25%    -0.232165  -0.950013  -0.673098  -0.808118  -0.608291\n",
              "50%     0.351122  -0.911842  -0.661179  -0.723618  -0.550558\n",
              "75%     0.889373   0.579163   0.918008  -0.617599  -0.507115\n",
              "max     0.933783   0.886309   0.932132   0.155652  -0.169384"
            ]
          },
          "metadata": {
            "tags": []
          },
          "execution_count": 3
        }
      ]
    },
    {
      "cell_type": "code",
      "metadata": {
        "id": "RJ8jmyWQHV81",
        "colab_type": "code",
        "colab": {}
      },
      "source": [
        "df_train = df_train_0.append(df_train_1)\n",
        "df_test  = df_test_0.append(df_test_1)"
      ],
      "execution_count": 0,
      "outputs": []
    },
    {
      "cell_type": "code",
      "metadata": {
        "id": "iTAGU90LHV9B",
        "colab_type": "code",
        "outputId": "81473f18-5ab2-4a67-a7ef-cd1b20f99279",
        "colab": {
          "base_uri": "https://localhost:8080/",
          "height": 211
        }
      },
      "source": [
        "fig, axes = plt.subplots(nrows=1, ncols=5, figsize=(15, 3), sharex=True, sharey=True)\n",
        "for i in np.arange(0, 5):\n",
        "    df_train_0[i].plot.hist(alpha=0.5, ax=axes[i], color='blue')\n",
        "    df_train_1[i].plot.hist(alpha=0.5, ax=axes[i], color='orange')"
      ],
      "execution_count": 5,
      "outputs": [
        {
          "output_type": "display_data",
          "data": {
            "image/png": "[encoded data removed]",
            "text/plain": [
              "<Figure size 1080x216 with 5 Axes>"
            ]
          },
          "metadata": {
            "tags": []
          }
        }
      ]
    },
    {
      "cell_type": "code",
      "metadata": {
        "id": "_GJCOpvOHV9F",
        "colab_type": "code",
        "outputId": "989dabc9-23c8-4d29-f79b-2b1f351f04d2",
        "colab": {
          "base_uri": "https://localhost:8080/",
          "height": 893
        }
      },
      "source": [
        "fig, axes = plt.subplots(nrows=4, ncols=4, figsize=(15, 15), sharex=True, sharey=True)\n",
        "all_unique_tupes = [(i, j) for i in range(0, 5) for j in range(i+1, 5)]\n",
        "for i, j in all_unique_tupes:\n",
        "        df_train_0.plot.scatter(x=i, y=j, alpha=0.3, ax=axes[i, j-1], c='blue') \n",
        "        df_train_1.plot.scatter(x=i, y=j, alpha=0.3, ax=axes[i, j-1], c='orange')\n",
        "        axes[i, j-1].set_title((i, j))"
      ],
      "execution_count": 6,
      "outputs": [
        {
          "output_type": "display_data",
          "data": {
            "image/png": "[encoded data removed]",
            "text/plain": [
              "<Figure size 1080x1080 with 16 Axes>"
            ]
          },
          "metadata": {
            "tags": []
          }
        }
      ]
    },
    {
      "cell_type": "markdown",
      "metadata": {
        "id": "ljRElNL8HV9O",
        "colab_type": "text"
      },
      "source": [
        "#### Data preprocessing "
      ]
    },
    {
      "cell_type": "code",
      "metadata": {
        "id": "BT3EUUdFHV9R",
        "colab_type": "code",
        "outputId": "1dbae7fb-58d6-4855-ff3c-29c2931f0c9a",
        "colab": {
          "base_uri": "https://localhost:8080/",
          "height": 211
        }
      },
      "source": [
        "# Zero meaning the data\n",
        "df_train_0 -= df_train.mean().mean()\n",
        "df_train_1 -= df_train.mean().mean()\n",
        "\n",
        "df_test_0 -= df_test.mean().mean()\n",
        "df_test_1 -= df_test.mean().mean()\n",
        "\n",
        "fig, axes = plt.subplots(nrows=1, ncols=5, figsize=(15, 3), sharex=True, sharey=True)\n",
        "for i in np.arange(0, 5):\n",
        "    df_train_0[i].plot.hist(alpha=0.5, ax=axes[i], color='blue')\n",
        "    df_train_1[i].plot.hist(alpha=0.5, ax=axes[i], color='orange')"
      ],
      "execution_count": 7,
      "outputs": [
        {
          "output_type": "display_data",
          "data": {
            "image/png": "[encoded data removed]",
            "text/plain": [
              "<Figure size 1080x216 with 5 Axes>"
            ]
          },
          "metadata": {
            "tags": []
          }
        }
      ]
    },
    {
      "cell_type": "code",
      "metadata": {
        "id": "6HTOZp3_HV9a",
        "colab_type": "code",
        "colab": {}
      },
      "source": [
        "from sklearn.utils import shuffle\n",
        "\n",
        "X_train = np.append(df_train_0.values, df_train_1.values, axis=0)\n",
        "y_train = np.array([[0] * len(df_train_0), [1] * len(df_train_1)]).reshape(1,-1)[0]\n",
        "\n",
        "X_test = np.append(df_test_0.values, df_test_1.values, axis=0)\n",
        "y_test = np.array([[0] * len(df_test_0), [1] * len(df_train_1)]).reshape(1,-1)[0]\n",
        "\n",
        "X_train, y_train = shuffle(X_train, y_train)\n",
        "X_test,  y_test  = shuffle(X_test,  y_test)\n",
        "\n",
        "X_train = np.append(X_train, X_test[50:], axis=0)\n",
        "y_train = np.append(y_train, y_test[50:], axis=0)\n",
        "X_test = X_test[:50]\n",
        "y_test = y_test[:50]"
      ],
      "execution_count": 0,
      "outputs": []
    },
    {
      "cell_type": "markdown",
      "metadata": {
        "id": "LTBRIyFBHV9f",
        "colab_type": "text"
      },
      "source": [
        "#### SVMs"
      ]
    },
    {
      "cell_type": "code",
      "metadata": {
        "id": "Lzy9k8lUHV9i",
        "colab_type": "code",
        "outputId": "45467201-ebf6-4d5d-b778-fd25dcf53de5",
        "colab": {
          "base_uri": "https://localhost:8080/",
          "height": 218
        }
      },
      "source": [
        "from sklearn import svm\n",
        "from sklearn.metrics import classification_report\n",
        "\n",
        "clf_svm = svm.SVC(gamma='auto')\n",
        "clf_svm.fit(X_train, y_train)\n",
        "\n",
        "print(\"SVM accuracy on the test data: {}\".format(clf_svm.score(X_test, y_test)))\n",
        "print(\"SVM support vector amount: {}\".format(clf_svm.n_support_))\n",
        "\n",
        "y_pred = clf_svm.predict(X_test)\n",
        "print(\"SVM report: \\n {}\".format(classification_report(y_test, y_pred)))"
      ],
      "execution_count": 9,
      "outputs": [
        {
          "output_type": "stream",
          "text": [
            "SVM accuracy on the test data: 0.76\n",
            "SVM support vector amount: [46 47]\n",
            "SVM report: \n",
            "               precision    recall  f1-score   support\n",
            "\n",
            "           0       0.71      0.92      0.80        26\n",
            "           1       0.88      0.58      0.70        24\n",
            "\n",
            "    accuracy                           0.76        50\n",
            "   macro avg       0.79      0.75      0.75        50\n",
            "weighted avg       0.79      0.76      0.75        50\n",
            "\n"
          ],
          "name": "stdout"
        }
      ]
    },
    {
      "cell_type": "markdown",
      "metadata": {
        "id": "q9xb4ashHV9t",
        "colab_type": "text"
      },
      "source": [
        "Softening the margin with lower C as we have a lot of overlapping data"
      ]
    },
    {
      "cell_type": "code",
      "metadata": {
        "id": "kxNC4g6WHV9u",
        "colab_type": "code",
        "outputId": "c804b074-b6be-4a29-fa08-74863b0b032b",
        "colab": {
          "base_uri": "https://localhost:8080/",
          "height": 50
        }
      },
      "source": [
        "clf_svm = svm.SVC(C = 1e-5, gamma='auto')\n",
        "clf_svm.fit(X_train, y_train)\n",
        "\n",
        "print(\"SVM accuracy on the test data: {}\".format(clf_svm.score(X_test, y_test)))\n",
        "print(\"SVM support vector amount: {}\".format(clf_svm.n_support_))"
      ],
      "execution_count": 10,
      "outputs": [
        {
          "output_type": "stream",
          "text": [
            "SVM accuracy on the test data: 0.48\n",
            "SVM support vector amount: [74 74]\n"
          ],
          "name": "stdout"
        }
      ]
    },
    {
      "cell_type": "markdown",
      "metadata": {
        "id": "m59O0ZnPHV92",
        "colab_type": "text"
      },
      "source": [
        "The data seems to form 3-4 clusters (see plot above), so we can perform classification on them seperately."
      ]
    },
    {
      "cell_type": "code",
      "metadata": {
        "id": "PdF7e26yHV93",
        "colab_type": "code",
        "outputId": "e2cbbe5c-4586-40a5-c8d4-22f22c7ba5af",
        "colab": {
          "base_uri": "https://localhost:8080/",
          "height": 101
        }
      },
      "source": [
        "from sklearn.cluster import KMeans\n",
        "\n",
        "cluster_amount = 3\n",
        "\n",
        "kmeans = KMeans(n_clusters = cluster_amount)\n",
        "clusters_train = kmeans.fit_predict(X_train)\n",
        "clusters_test = kmeans.predict(X_test)\n",
        "\n",
        "score_all = 0\n",
        "for i in range(0, cluster_amount):\n",
        "    clf_svm = svm.SVC(gamma='auto')\n",
        "    clf_svm.fit(X_train[clusters_train == i], y_train[clusters_train == i])\n",
        "    score = clf_svm.score(X_test[clusters_test == i], y_test[clusters_test == i])\n",
        "    print(\"SVM accuracy for class {}: {}\".format(i, score))\n",
        "    \n",
        "    score_all += score\n",
        "print(\"--------------------------\")\n",
        "print(\"Overall average classification accuracy: {}\".format(score_all / cluster_amount))"
      ],
      "execution_count": 11,
      "outputs": [
        {
          "output_type": "stream",
          "text": [
            "SVM accuracy for class 0: 0.7777777777777778\n",
            "SVM accuracy for class 1: 0.7307692307692307\n",
            "SVM accuracy for class 2: 0.8\n",
            "--------------------------\n",
            "Overall average classification accuracy: 0.7695156695156694\n"
          ],
          "name": "stdout"
        }
      ]
    },
    {
      "cell_type": "markdown",
      "metadata": {
        "id": "1u4Nfoh5HV-E",
        "colab_type": "text"
      },
      "source": [
        "#### Random forests"
      ]
    },
    {
      "cell_type": "code",
      "metadata": {
        "id": "biLI_QluHV-P",
        "colab_type": "code",
        "outputId": "ccdc333e-ac3b-401e-a8d3-0f711a705345",
        "colab": {
          "base_uri": "https://localhost:8080/",
          "height": 50
        }
      },
      "source": [
        "from sklearn.model_selection import cross_val_score\n",
        "from sklearn.ensemble import RandomForestClassifier\n",
        "\n",
        "clf_rf = RandomForestClassifier(n_estimators = 50, \n",
        "                                max_depth = None, \n",
        "                                min_samples_split = 3)\n",
        "scores = cross_val_score(clf_rf, X_train, y_train, cv=10)\n",
        "print(\"Cross validation mean accuracy: {}\".format(scores.mean()))\n",
        "\n",
        "clf_rf.fit(X_train, y_train)\n",
        "score = clf_rf.score(X_test, y_test)\n",
        "print(\"Random Forest accuracy on the test data: {}\".format(score))"
      ],
      "execution_count": 12,
      "outputs": [
        {
          "output_type": "stream",
          "text": [
            "Cross validation mean accuracy: 0.6933333333333332\n",
            "Random Forest accuracy on the test data: 0.76\n"
          ],
          "name": "stdout"
        }
      ]
    },
    {
      "cell_type": "code",
      "metadata": {
        "id": "zWap93aoHV-X",
        "colab_type": "code",
        "outputId": "224f1910-e8d2-439e-961f-37377a5ae5ba",
        "colab": {
          "base_uri": "https://localhost:8080/",
          "height": 50
        }
      },
      "source": [
        "from sklearn.ensemble import AdaBoostClassifier\n",
        "\n",
        "clf = AdaBoostClassifier(clf_rf)\n",
        "scores = cross_val_score(clf, X_train, y_train, cv=10)\n",
        "print(\"Cross validation mean accuracy: {}\".format(scores.mean()))\n",
        "\n",
        "clf.fit(X_train, y_train)\n",
        "score = clf.score(X_test, y_test)\n",
        "print(\"Boosted Random Forest Accuracy on the test data: {}\".format(score))"
      ],
      "execution_count": 18,
      "outputs": [
        {
          "output_type": "stream",
          "text": [
            "Cross validation mean accuracy: 0.6799999999999999\n",
            "Boosted Random Forest Accuracy on the test data: 0.8\n"
          ],
          "name": "stdout"
        }
      ]
    },
    {
      "cell_type": "markdown",
      "metadata": {
        "id": "vJJX_GdiHV-k",
        "colab_type": "text"
      },
      "source": [
        "#### Artificial Neural Networks"
      ]
    },
    {
      "cell_type": "code",
      "metadata": {
        "id": "wci0MVHSHV-m",
        "colab_type": "code",
        "outputId": "b69866c3-b6c0-480c-b782-9ecb2b28f9ef",
        "colab": {
          "base_uri": "https://localhost:8080/",
          "height": 973
        }
      },
      "source": [
        "import tensorflow as tf\n",
        "import keras\n",
        "\n",
        "layer_common_params = {\n",
        "    'activation' : 'relu', \n",
        "    'kernel_regularizer' : keras.regularizers.l2(0.01), \n",
        "    'kernel_initializer' : 'random_uniform'\n",
        "    }\n",
        "\n",
        "model = tf.keras.models.Sequential([\n",
        "  tf.keras.layers.Dense(32, input_dim = 5, **layer_common_params),\n",
        "  tf.keras.layers.BatchNormalization(),\n",
        "  tf.keras.layers.Dense(512, **layer_common_params),\n",
        "  tf.keras.layers.Dropout(0.5),\n",
        "  tf.keras.layers.Dense(64, **layer_common_params),\n",
        "  tf.keras.layers.Dropout(0.2),\n",
        "  tf.keras.layers.Dense(1, activation='sigmoid')\n",
        "])\n",
        "\n",
        "model.compile(optimizer='adam',\n",
        "              loss='binary_crossentropy',\n",
        "              metrics=['accuracy'])\n",
        "\n",
        "model.fit(X_train, y_train, epochs=20, batch_size=10, validation_split=0.1)\n",
        "model.evaluate(X_test, y_test)"
      ],
      "execution_count": 14,
      "outputs": [
        {
          "output_type": "display_data",
          "data": {
            "text/html": [
              "<p style=\"color: red;\">\n",
              "The default version of TensorFlow in Colab will soon switch to TensorFlow 2.x.<br>\n",
              "We recommend you <a href=\"https://www.tensorflow.org/guide/migrate\" target=\"_blank\">upgrade</a> now \n",
              "or ensure your notebook will continue to use TensorFlow 1.x via the <code>%tensorflow_version 1.x</code> magic:\n",
              "<a href=\"https://colab.research.google.com/notebooks/tensorflow_version.ipynb\" target=\"_blank\">more info</a>.</p>\n"
            ],
            "text/plain": [
              "<IPython.core.display.HTML object>"
            ]
          },
          "metadata": {
            "tags": []
          }
        },
        {
          "output_type": "stream",
          "text": [
            "WARNING:tensorflow:From /usr/local/lib/python3.6/dist-packages/tensorflow_core/python/keras/initializers.py:119: calling RandomUniform.__init__ (from tensorflow.python.ops.init_ops) with dtype is deprecated and will be removed in a future version.\n",
            "Instructions for updating:\n",
            "Call initializer instance with the dtype argument instead of passing it to the constructor\n",
            "WARNING:tensorflow:From /usr/local/lib/python3.6/dist-packages/tensorflow_core/python/ops/resource_variable_ops.py:1630: calling BaseResourceVariable.__init__ (from tensorflow.python.ops.resource_variable_ops) with constraint is deprecated and will be removed in a future version.\n",
            "Instructions for updating:\n",
            "If using Keras pass *_constraint arguments to layers.\n"
          ],
          "name": "stdout"
        },
        {
          "output_type": "stream",
          "text": [
            "Using TensorFlow backend.\n"
          ],
          "name": "stderr"
        },
        {
          "output_type": "stream",
          "text": [
            "WARNING:tensorflow:From /usr/local/lib/python3.6/dist-packages/tensorflow_core/python/ops/nn_impl.py:183: where (from tensorflow.python.ops.array_ops) is deprecated and will be removed in a future version.\n",
            "Instructions for updating:\n",
            "Use tf.where in 2.0, which has the same broadcast rule as np.where\n",
            "Train on 135 samples, validate on 15 samples\n",
            "Epoch 1/20\n",
            "135/135 [==============================] - 0s 2ms/sample - loss: 1.0187 - acc: 0.5556 - val_loss: 0.9747 - val_acc: 0.6000\n",
            "Epoch 2/20\n",
            "135/135 [==============================] - 0s 348us/sample - loss: 0.8437 - acc: 0.7185 - val_loss: 0.8919 - val_acc: 0.6667\n",
            "Epoch 3/20\n",
            "135/135 [==============================] - 0s 342us/sample - loss: 0.7553 - acc: 0.7111 - val_loss: 0.8385 - val_acc: 0.6667\n",
            "Epoch 4/20\n",
            "135/135 [==============================] - 0s 315us/sample - loss: 0.7252 - acc: 0.7333 - val_loss: 0.8066 - val_acc: 0.6667\n",
            "Epoch 5/20\n",
            "135/135 [==============================] - 0s 328us/sample - loss: 0.6728 - acc: 0.7259 - val_loss: 0.7814 - val_acc: 0.6667\n",
            "Epoch 6/20\n",
            "135/135 [==============================] - 0s 315us/sample - loss: 0.6493 - acc: 0.7333 - val_loss: 0.7641 - val_acc: 0.6667\n",
            "Epoch 7/20\n",
            "135/135 [==============================] - 0s 337us/sample - loss: 0.6280 - acc: 0.7333 - val_loss: 0.7487 - val_acc: 0.6667\n",
            "Epoch 8/20\n",
            "135/135 [==============================] - 0s 349us/sample - loss: 0.6431 - acc: 0.7407 - val_loss: 0.7430 - val_acc: 0.7333\n",
            "Epoch 9/20\n",
            "135/135 [==============================] - 0s 341us/sample - loss: 0.6209 - acc: 0.7185 - val_loss: 0.7352 - val_acc: 0.6667\n",
            "Epoch 10/20\n",
            "135/135 [==============================] - 0s 311us/sample - loss: 0.6063 - acc: 0.7778 - val_loss: 0.7301 - val_acc: 0.6000\n",
            "Epoch 11/20\n",
            "135/135 [==============================] - 0s 355us/sample - loss: 0.6042 - acc: 0.7481 - val_loss: 0.7330 - val_acc: 0.6000\n",
            "Epoch 12/20\n",
            "135/135 [==============================] - 0s 352us/sample - loss: 0.5947 - acc: 0.7630 - val_loss: 0.7281 - val_acc: 0.6000\n",
            "Epoch 13/20\n",
            "135/135 [==============================] - 0s 330us/sample - loss: 0.5861 - acc: 0.7333 - val_loss: 0.7187 - val_acc: 0.7333\n",
            "Epoch 14/20\n",
            "135/135 [==============================] - 0s 351us/sample - loss: 0.6000 - acc: 0.7481 - val_loss: 0.7187 - val_acc: 0.6000\n",
            "Epoch 15/20\n",
            "135/135 [==============================] - 0s 360us/sample - loss: 0.5783 - acc: 0.7556 - val_loss: 0.7219 - val_acc: 0.6000\n",
            "Epoch 16/20\n",
            "135/135 [==============================] - 0s 356us/sample - loss: 0.5615 - acc: 0.7481 - val_loss: 0.7069 - val_acc: 0.7333\n",
            "Epoch 17/20\n",
            "135/135 [==============================] - 0s 339us/sample - loss: 0.5841 - acc: 0.7407 - val_loss: 0.7017 - val_acc: 0.6667\n",
            "Epoch 18/20\n",
            "135/135 [==============================] - 0s 305us/sample - loss: 0.6035 - acc: 0.7556 - val_loss: 0.7065 - val_acc: 0.6667\n",
            "Epoch 19/20\n",
            "135/135 [==============================] - 0s 327us/sample - loss: 0.6058 - acc: 0.7259 - val_loss: 0.7058 - val_acc: 0.6667\n",
            "Epoch 20/20\n",
            "135/135 [==============================] - 0s 368us/sample - loss: 0.6081 - acc: 0.7333 - val_loss: 0.6975 - val_acc: 0.7333\n",
            "50/50 [==============================] - 0s 125us/sample - loss: 0.6433 - acc: 0.7800\n"
          ],
          "name": "stdout"
        },
        {
          "output_type": "execute_result",
          "data": {
            "text/plain": [
              "[0.6432864427566528, 0.78]"
            ]
          },
          "metadata": {
            "tags": []
          },
          "execution_count": 14
        }
      ]
    }
  ]
}