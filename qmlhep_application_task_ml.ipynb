{
 "cells": [
  {
   "cell_type": "markdown",
   "metadata": {},
   "source": [
    "## GSoC 2020 Student Application Test\n",
    "#### CERN Project: Quantum Machine Learning for High Energy Physic\n",
    "\n",
    "\n",
    "You will explore how best to apply machine learning algorithms, for example, Neural Network, Boosted Decision Tree (BDT), Support Vector Machine(SVM) to solve a High Energy Data analysis issue, more specifically,  separating the signal events from the background events.\n",
    "\n",
    "A set of input samples (simulated with Delphes) is provided in NumPy NPZ format. In the input file, there are only 100 samples for training and 100 samples for testing so it won’t take much computing resources to accomplish this task. The signal events are labeled with 1 while the background sample are labeled with 0.\n",
    "\n",
    "You can apply one machine learning algorithm to this input but be sure to show that you understand how to fine tune your machine learning model to improve the performance. The performance can be evaluated with classification accuracy or Area Under ROC Curve (AUC)."
   ]
  },
  {
   "cell_type": "markdown",
   "metadata": {},
   "source": [
    "#### Loading data"
   ]
  },
  {
   "cell_type": "code",
   "execution_count": 1,
   "metadata": {},
   "outputs": [],
   "source": [
    "import numpy as np\n",
    "import pandas as pd\n",
    "import matplotlib.pyplot as plt\n",
    "\n",
    "file = np.load('QIS_EXAM_200Events.npz')\n",
    "\n",
    "train_dataset = file['training_input'].item()\n",
    "test_dataset = file['test_input'].item()"
   ]
  },
  {
   "cell_type": "markdown",
   "metadata": {},
   "source": [
    "#### Data investigation"
   ]
  },
  {
   "cell_type": "code",
   "execution_count": 2,
   "metadata": {},
   "outputs": [
    {
     "data": {
      "text/html": [
       "<div>\n",
       "<style scoped>\n",
       "    .dataframe tbody tr th:only-of-type {\n",
       "        vertical-align: middle;\n",
       "    }\n",
       "\n",
       "    .dataframe tbody tr th {\n",
       "        vertical-align: top;\n",
       "    }\n",
       "\n",
       "    .dataframe thead th {\n",
       "        text-align: right;\n",
       "    }\n",
       "</style>\n",
       "<table border=\"1\" class=\"dataframe\">\n",
       "  <thead>\n",
       "    <tr style=\"text-align: right;\">\n",
       "      <th></th>\n",
       "      <th>0</th>\n",
       "      <th>1</th>\n",
       "      <th>2</th>\n",
       "      <th>3</th>\n",
       "      <th>4</th>\n",
       "    </tr>\n",
       "  </thead>\n",
       "  <tbody>\n",
       "    <tr>\n",
       "      <th>count</th>\n",
       "      <td>50.000000</td>\n",
       "      <td>50.000000</td>\n",
       "      <td>50.000000</td>\n",
       "      <td>50.000000</td>\n",
       "      <td>50.000000</td>\n",
       "    </tr>\n",
       "    <tr>\n",
       "      <th>mean</th>\n",
       "      <td>-0.454617</td>\n",
       "      <td>-0.103901</td>\n",
       "      <td>-0.224488</td>\n",
       "      <td>-0.796956</td>\n",
       "      <td>-0.576463</td>\n",
       "    </tr>\n",
       "    <tr>\n",
       "      <th>std</th>\n",
       "      <td>0.605700</td>\n",
       "      <td>0.902026</td>\n",
       "      <td>0.652320</td>\n",
       "      <td>0.122736</td>\n",
       "      <td>0.054428</td>\n",
       "    </tr>\n",
       "    <tr>\n",
       "      <th>min</th>\n",
       "      <td>-0.999915</td>\n",
       "      <td>-0.999931</td>\n",
       "      <td>-0.933175</td>\n",
       "      <td>-0.929184</td>\n",
       "      <td>-0.730352</td>\n",
       "    </tr>\n",
       "    <tr>\n",
       "      <th>25%</th>\n",
       "      <td>-0.998979</td>\n",
       "      <td>-0.999337</td>\n",
       "      <td>-0.924206</td>\n",
       "      <td>-0.865289</td>\n",
       "      <td>-0.597834</td>\n",
       "    </tr>\n",
       "    <tr>\n",
       "      <th>50%</th>\n",
       "      <td>-0.431735</td>\n",
       "      <td>-0.193156</td>\n",
       "      <td>0.076867</td>\n",
       "      <td>-0.826015</td>\n",
       "      <td>-0.582649</td>\n",
       "    </tr>\n",
       "    <tr>\n",
       "      <th>75%</th>\n",
       "      <td>-0.426285</td>\n",
       "      <td>0.864718</td>\n",
       "      <td>0.077533</td>\n",
       "      <td>-0.775574</td>\n",
       "      <td>-0.541973</td>\n",
       "    </tr>\n",
       "    <tr>\n",
       "      <th>max</th>\n",
       "      <td>0.919312</td>\n",
       "      <td>0.880835</td>\n",
       "      <td>0.934484</td>\n",
       "      <td>-0.246957</td>\n",
       "      <td>-0.401706</td>\n",
       "    </tr>\n",
       "  </tbody>\n",
       "</table>\n",
       "</div>"
      ],
      "text/plain": [
       "               0          1          2          3          4\n",
       "count  50.000000  50.000000  50.000000  50.000000  50.000000\n",
       "mean   -0.454617  -0.103901  -0.224488  -0.796956  -0.576463\n",
       "std     0.605700   0.902026   0.652320   0.122736   0.054428\n",
       "min    -0.999915  -0.999931  -0.933175  -0.929184  -0.730352\n",
       "25%    -0.998979  -0.999337  -0.924206  -0.865289  -0.597834\n",
       "50%    -0.431735  -0.193156   0.076867  -0.826015  -0.582649\n",
       "75%    -0.426285   0.864718   0.077533  -0.775574  -0.541973\n",
       "max     0.919312   0.880835   0.934484  -0.246957  -0.401706"
      ]
     },
     "execution_count": 2,
     "metadata": {},
     "output_type": "execute_result"
    }
   ],
   "source": [
    "df_train_0 = pd.DataFrame(train_dataset['0'])\n",
    "df_test_0  = pd.DataFrame(test_dataset['0'])\n",
    "\n",
    "df_train_0.describe()"
   ]
  },
  {
   "cell_type": "code",
   "execution_count": 3,
   "metadata": {},
   "outputs": [
    {
     "data": {
      "text/html": [
       "<div>\n",
       "<style scoped>\n",
       "    .dataframe tbody tr th:only-of-type {\n",
       "        vertical-align: middle;\n",
       "    }\n",
       "\n",
       "    .dataframe tbody tr th {\n",
       "        vertical-align: top;\n",
       "    }\n",
       "\n",
       "    .dataframe thead th {\n",
       "        text-align: right;\n",
       "    }\n",
       "</style>\n",
       "<table border=\"1\" class=\"dataframe\">\n",
       "  <thead>\n",
       "    <tr style=\"text-align: right;\">\n",
       "      <th></th>\n",
       "      <th>0</th>\n",
       "      <th>1</th>\n",
       "      <th>2</th>\n",
       "      <th>3</th>\n",
       "      <th>4</th>\n",
       "    </tr>\n",
       "  </thead>\n",
       "  <tbody>\n",
       "    <tr>\n",
       "      <th>count</th>\n",
       "      <td>50.000000</td>\n",
       "      <td>50.000000</td>\n",
       "      <td>50.000000</td>\n",
       "      <td>50.000000</td>\n",
       "      <td>50.000000</td>\n",
       "    </tr>\n",
       "    <tr>\n",
       "      <th>mean</th>\n",
       "      <td>0.330350</td>\n",
       "      <td>-0.201806</td>\n",
       "      <td>-0.156798</td>\n",
       "      <td>-0.675110</td>\n",
       "      <td>-0.540111</td>\n",
       "    </tr>\n",
       "    <tr>\n",
       "      <th>std</th>\n",
       "      <td>0.646656</td>\n",
       "      <td>0.825911</td>\n",
       "      <td>0.760558</td>\n",
       "      <td>0.227266</td>\n",
       "      <td>0.123972</td>\n",
       "    </tr>\n",
       "    <tr>\n",
       "      <th>min</th>\n",
       "      <td>-0.999097</td>\n",
       "      <td>-0.999338</td>\n",
       "      <td>-0.936612</td>\n",
       "      <td>-0.912692</td>\n",
       "      <td>-0.844211</td>\n",
       "    </tr>\n",
       "    <tr>\n",
       "      <th>25%</th>\n",
       "      <td>-0.232165</td>\n",
       "      <td>-0.950013</td>\n",
       "      <td>-0.673098</td>\n",
       "      <td>-0.808118</td>\n",
       "      <td>-0.608291</td>\n",
       "    </tr>\n",
       "    <tr>\n",
       "      <th>50%</th>\n",
       "      <td>0.351122</td>\n",
       "      <td>-0.911842</td>\n",
       "      <td>-0.661179</td>\n",
       "      <td>-0.723618</td>\n",
       "      <td>-0.550558</td>\n",
       "    </tr>\n",
       "    <tr>\n",
       "      <th>75%</th>\n",
       "      <td>0.889373</td>\n",
       "      <td>0.579163</td>\n",
       "      <td>0.918008</td>\n",
       "      <td>-0.617599</td>\n",
       "      <td>-0.507115</td>\n",
       "    </tr>\n",
       "    <tr>\n",
       "      <th>max</th>\n",
       "      <td>0.933783</td>\n",
       "      <td>0.886309</td>\n",
       "      <td>0.932132</td>\n",
       "      <td>0.155652</td>\n",
       "      <td>-0.169384</td>\n",
       "    </tr>\n",
       "  </tbody>\n",
       "</table>\n",
       "</div>"
      ],
      "text/plain": [
       "               0          1          2          3          4\n",
       "count  50.000000  50.000000  50.000000  50.000000  50.000000\n",
       "mean    0.330350  -0.201806  -0.156798  -0.675110  -0.540111\n",
       "std     0.646656   0.825911   0.760558   0.227266   0.123972\n",
       "min    -0.999097  -0.999338  -0.936612  -0.912692  -0.844211\n",
       "25%    -0.232165  -0.950013  -0.673098  -0.808118  -0.608291\n",
       "50%     0.351122  -0.911842  -0.661179  -0.723618  -0.550558\n",
       "75%     0.889373   0.579163   0.918008  -0.617599  -0.507115\n",
       "max     0.933783   0.886309   0.932132   0.155652  -0.169384"
      ]
     },
     "execution_count": 3,
     "metadata": {},
     "output_type": "execute_result"
    }
   ],
   "source": [
    "df_train_1 = pd.DataFrame(train_dataset['1'])\n",
    "df_test_1  = pd.DataFrame(test_dataset['1'])\n",
    "\n",
    "df_train_1.describe()"
   ]
  },
  {
   "cell_type": "code",
   "execution_count": 4,
   "metadata": {},
   "outputs": [],
   "source": [
    "df_train = df_train_0.append(df_train_1)\n",
    "df_test  = df_test_0.append(df_test_1)"
   ]
  },
  {
   "cell_type": "code",
   "execution_count": 5,
   "metadata": {},
   "outputs": [
    {
     "data": {
      "image/png": "[encoded data removed]",
      "text/plain": [
       "<Figure size 1080x216 with 5 Axes>"
      ]
     },
     "metadata": {
      "needs_background": "light"
     },
     "output_type": "display_data"
    }
   ],
   "source": [
    "fig, axes = plt.subplots(nrows=1, ncols=5, figsize=(15, 3), sharex=True, sharey=True)\n",
    "for i in np.arange(0, 5):\n",
    "    df_train_0[i].plot.hist(alpha=0.5, ax=axes[i], color='blue')\n",
    "    df_train_1[i].plot.hist(alpha=0.5, ax=axes[i], color='orange')"
   ]
  },
  {
   "cell_type": "code",
   "execution_count": 6,
   "metadata": {},
   "outputs": [
    {
     "data": {
      "image/png": "[encoded data removed]",
      "text/plain": [
       "<Figure size 1080x1080 with 16 Axes>"
      ]
     },
     "metadata": {
      "needs_background": "light"
     },
     "output_type": "display_data"
    }
   ],
   "source": [
    "fig, axes = plt.subplots(nrows=4, ncols=4, figsize=(15, 15), sharex=True, sharey=True)\n",
    "all_unique_tupes = [(i, j) for i in range(0, 5) for j in range(i+1, 5)]\n",
    "for i, j in all_unique_tupes:\n",
    "        df_train_0.plot.scatter(x=i, y=j, alpha=0.3, ax=axes[i, j-1], c='blue') \n",
    "        df_train_1.plot.scatter(x=i, y=j, alpha=0.3, ax=axes[i, j-1], c='orange')\n",
    "        axes[i, j-1].set_title((i, j))"
   ]
  },
  {
   "cell_type": "markdown",
   "metadata": {},
   "source": [
    "#### Data preprocessing "
   ]
  },
  {
   "cell_type": "code",
   "execution_count": 7,
   "metadata": {},
   "outputs": [
    {
     "data": {
      "image/png": "[encoded data removed]",
      "text/plain": [
       "<Figure size 1080x216 with 5 Axes>"
      ]
     },
     "metadata": {
      "needs_background": "light"
     },
     "output_type": "display_data"
    }
   ],
   "source": [
    "# Zero meaning the data\n",
    "df_train_0 -= df_train.mean().mean()\n",
    "df_train_1 -= df_train.mean().mean()\n",
    "\n",
    "df_test_0 -= df_test.mean().mean()\n",
    "df_test_1 -= df_test.mean().mean()\n",
    "\n",
    "fig, axes = plt.subplots(nrows=1, ncols=5, figsize=(15, 3), sharex=True, sharey=True)\n",
    "for i in np.arange(0, 5):\n",
    "    df_train_0[i].plot.hist(alpha=0.5, ax=axes[i], color='blue')\n",
    "    df_train_1[i].plot.hist(alpha=0.5, ax=axes[i], color='orange')"
   ]
  },
  {
   "cell_type": "code",
   "execution_count": 15,
   "metadata": {},
   "outputs": [],
   "source": [
    "from sklearn.utils import shuffle\n",
    "\n",
    "X_train = np.append(df_train_0.values, df_train_1.values, axis=0)\n",
    "y_train = np.array([[0] * len(df_train_0), [1] * len(df_train_1)]).reshape(1,-1)[0]\n",
    "\n",
    "X_test = np.append(df_test_0.values, df_test_1.values, axis=0)\n",
    "y_test = np.array([[0] * len(df_test_0), [1] * len(df_train_1)]).reshape(1,-1)[0]\n",
    "\n",
    "X_train, y_train = shuffle(X_train, y_train)\n",
    "X_test,  y_test  = shuffle(X_test,  y_test)\n",
    "\n",
    "X_train = np.append(X_train, X_test[50:], axis=0)\n",
    "y_train = np.append(y_train, y_test[50:], axis=0)\n",
    "X_test = X_test[:50]\n",
    "y_test = y_test[:50]"
   ]
  },
  {
   "cell_type": "markdown",
   "metadata": {},
   "source": [
    "#### SVMs"
   ]
  },
  {
   "cell_type": "code",
   "execution_count": 9,
   "metadata": {},
   "outputs": [
    {
     "name": "stdout",
     "output_type": "stream",
     "text": [
      "SVM accuracy on the test data: 0.74\n",
      "SVM support vector amount: [45 45]\n",
      "SVM report: \n",
      "               precision    recall  f1-score   support\n",
      "\n",
      "           0       0.71      0.80      0.75        25\n",
      "           1       0.77      0.68      0.72        25\n",
      "\n",
      "   micro avg       0.74      0.74      0.74        50\n",
      "   macro avg       0.74      0.74      0.74        50\n",
      "weighted avg       0.74      0.74      0.74        50\n",
      "\n"
     ]
    }
   ],
   "source": [
    "from sklearn import svm\n",
    "from sklearn.metrics import classification_report\n",
    "\n",
    "clf_svm = svm.SVC(gamma='auto')\n",
    "clf_svm.fit(X_train, y_train)\n",
    "\n",
    "print(\"SVM accuracy on the test data: {}\".format(clf_svm.score(X_test, y_test)))\n",
    "print(\"SVM support vector amount: {}\".format(clf_svm.n_support_))\n",
    "\n",
    "y_pred = clf_svm.predict(X_test)\n",
    "print(\"SVM report: \\n {}\".format(classification_report(y_test, y_pred)))"
   ]
  },
  {
   "cell_type": "markdown",
   "metadata": {},
   "source": [
    "Softening the margin with lower C as we have a lot of overlapping data"
   ]
  },
  {
   "cell_type": "code",
   "execution_count": 10,
   "metadata": {},
   "outputs": [
    {
     "name": "stdout",
     "output_type": "stream",
     "text": [
      "SVM accuracy on the test data: 0.74\n",
      "SVM support vector amount: [75 75]\n"
     ]
    }
   ],
   "source": [
    "clf_svm = svm.SVC(C = 1e-5, gamma='auto')\n",
    "clf_svm.fit(X_train, y_train)\n",
    "\n",
    "print(\"SVM accuracy on the test data: {}\".format(clf_svm.score(X_test, y_test)))\n",
    "print(\"SVM support vector amount: {}\".format(clf_svm.n_support_))"
   ]
  },
  {
   "cell_type": "markdown",
   "metadata": {},
   "source": [
    "The data seems to form 3-4 clusters (see plot above), so we can perform classification on them seperately."
   ]
  },
  {
   "cell_type": "code",
   "execution_count": 48,
   "metadata": {},
   "outputs": [
    {
     "name": "stdout",
     "output_type": "stream",
     "text": [
      "SVM accuracy for class 0: 0.8888888888888888\n",
      "SVM accuracy for class 1: 0.6428571428571429\n",
      "SVM accuracy for class 2: 0.8461538461538461\n",
      "--------------------------\n",
      "Overall average classification accuracy: 0.7926332926332926\n"
     ]
    }
   ],
   "source": [
    "from sklearn.cluster import KMeans\n",
    "\n",
    "cluster_amount = 3\n",
    "\n",
    "kmeans = KMeans(n_clusters = cluster_amount)\n",
    "clusters_train = kmeans.fit_predict(X_train)\n",
    "clusters_test = kmeans.predict(X_test)\n",
    "\n",
    "score_all = 0\n",
    "for i in range(0, cluster_amount):\n",
    "    clf_svm = svm.SVC(gamma='auto')\n",
    "    clf_svm.fit(X_train[clusters_train == i], y_train[clusters_train == i])\n",
    "    score = clf_svm.score(X_test[clusters_test == i], y_test[clusters_test == i])\n",
    "    print(\"SVM accuracy for class {}: {}\".format(i, score))\n",
    "    \n",
    "    score_all += score\n",
    "print(\"--------------------------\")\n",
    "print(\"Overall average classification accuracy: {}\".format(score_all / cluster_amount))"
   ]
  },
  {
   "cell_type": "markdown",
   "metadata": {},
   "source": [
    "#### Random forests"
   ]
  },
  {
   "cell_type": "code",
   "execution_count": 49,
   "metadata": {},
   "outputs": [
    {
     "name": "stdout",
     "output_type": "stream",
     "text": [
      "Cross validation mean accuracy: 0.6914880952380952\n",
      "Random Forest accuracy on the test data: 0.76\n"
     ]
    }
   ],
   "source": [
    "from sklearn.model_selection import cross_val_score\n",
    "from sklearn.ensemble import RandomForestClassifier\n",
    "\n",
    "clf_rf = RandomForestClassifier(n_estimators = 50, \n",
    "                                max_depth = None, \n",
    "                                min_samples_split = 3)\n",
    "scores = cross_val_score(clf_rf, X_train, y_train, cv=10)\n",
    "print(\"Cross validation mean accuracy: {}\".format(scores.mean()))\n",
    "\n",
    "clf_rf.fit(X_train, y_train)\n",
    "score = clf_rf.score(X_test, y_test)\n",
    "print(\"Random Forest accuracy on the test data: {}\".format(score))"
   ]
  },
  {
   "cell_type": "code",
   "execution_count": 52,
   "metadata": {},
   "outputs": [
    {
     "name": "stdout",
     "output_type": "stream",
     "text": [
      "Cross validation mean accuracy: 0.6932738095238096\n",
      "Boosted Random Forest Accuracy on the test data: 0.82\n"
     ]
    }
   ],
   "source": [
    "from sklearn.ensemble import AdaBoostClassifier\n",
    "\n",
    "clf = AdaBoostClassifier(clf_rf)\n",
    "scores = cross_val_score(clf, X_train, y_train, cv=10)\n",
    "print(\"Cross validation mean accuracy: {}\".format(scores.mean()))\n",
    "\n",
    "clf.fit(X_train, y_train)\n",
    "score = clf.score(X_test, y_test)\n",
    "print(\"Boosted Random Forest Accuracy on the test data: {}\".format(score))"
   ]
  }
 ],
 "metadata": {
  "kernelspec": {
   "display_name": "Python 3",
   "language": "python",
   "name": "python3"
  },
  "language_info": {
   "codemirror_mode": {
    "name": "ipython",
    "version": 3
   },
   "file_extension": ".py",
   "mimetype": "text/x-python",
   "name": "python",
   "nbconvert_exporter": "python",
   "pygments_lexer": "ipython3",
   "version": "3.5.2"
  }
 },
 "nbformat": 4,
 "nbformat_minor": 2
}
