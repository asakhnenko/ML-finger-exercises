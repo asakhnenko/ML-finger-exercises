{
  "nbformat": 4,
  "nbformat_minor": 0,
  "metadata": {
    "kernelspec": {
      "display_name": "Python 3",
      "language": "python",
      "name": "python3"
    },
    "language_info": {
      "codemirror_mode": {
        "name": "ipython",
        "version": 3
      },
      "file_extension": ".py",
      "mimetype": "text/x-python",
      "name": "python",
      "nbconvert_exporter": "python",
      "pygments_lexer": "ipython3",
      "version": "3.5.2"
    },
    "colab": {
      "name": "qmlhep_application_task_ml.ipynb",
      "provenance": [],
      "collapsed_sections": [],
      "toc_visible": true
    }
  },
  "cells": [
    {
      "cell_type": "markdown",
      "metadata": {
        "id": "oB631jbVHV8R",
        "colab_type": "text"
      },
      "source": [
        "## GSoC 2020 Student Application Test\n",
        "#### CERN Project: Quantum Machine Learning for High Energy Physic\n",
        "\n",
        "\n",
        "You will explore how best to apply machine learning algorithms, for example, Neural Network, Boosted Decision Tree (BDT), Support Vector Machine(SVM) to solve a High Energy Data analysis issue, more specifically,  separating the signal events from the background events.\n",
        "\n",
        "A set of input samples (simulated with Delphes) is provided in NumPy NPZ format. In the input file, there are only 100 samples for training and 100 samples for testing so it won’t take much computing resources to accomplish this task. The signal events are labeled with 1 while the background sample are labeled with 0.\n",
        "\n",
        "You can apply one machine learning algorithm to this input but be sure to show that you understand how to fine tune your machine learning model to improve the performance. The performance can be evaluated with classification accuracy or Area Under ROC Curve (AUC)."
      ]
    },
    {
      "cell_type": "markdown",
      "metadata": {
        "id": "shYFxahfHV8Y",
        "colab_type": "text"
      },
      "source": [
        "#### Loading data"
      ]
    },
    {
      "cell_type": "code",
      "metadata": {
        "id": "D1jOONOCHV8a",
        "colab_type": "code",
        "colab": {}
      },
      "source": [
        "import numpy as np\n",
        "import pandas as pd\n",
        "import matplotlib.pyplot as plt\n",
        "\n",
        "file = np.load('QIS_EXAM_200Events.npz', allow_pickle=True)\n",
        "\n",
        "train_dataset = file['training_input'].item()\n",
        "test_dataset = file['test_input'].item()"
      ],
      "execution_count": 0,
      "outputs": []
    },
    {
      "cell_type": "markdown",
      "metadata": {
        "id": "YTYblB_6HV8h",
        "colab_type": "text"
      },
      "source": [
        "#### Data investigation"
      ]
    },
    {
      "cell_type": "code",
      "metadata": {
        "id": "9owtmcYsHV8i",
        "colab_type": "code",
        "outputId": "6393126c-3fc9-47ea-e15f-9d6ea00f470d",
        "colab": {
          "base_uri": "https://localhost:8080/",
          "height": 284
        }
      },
      "source": [
        "df_train_0 = pd.DataFrame(train_dataset['0'])\n",
        "df_test_0  = pd.DataFrame(test_dataset['0'])\n",
        "\n",
        "df_train_0.describe()"
      ],
      "execution_count": 2,
      "outputs": [
        {
          "output_type": "execute_result",
          "data": {
            "text/html": [
              "<div>\n",
              "<style scoped>\n",
              "    .dataframe tbody tr th:only-of-type {\n",
              "        vertical-align: middle;\n",
              "    }\n",
              "\n",
              "    .dataframe tbody tr th {\n",
              "        vertical-align: top;\n",
              "    }\n",
              "\n",
              "    .dataframe thead th {\n",
              "        text-align: right;\n",
              "    }\n",
              "</style>\n",
              "<table border=\"1\" class=\"dataframe\">\n",
              "  <thead>\n",
              "    <tr style=\"text-align: right;\">\n",
              "      <th></th>\n",
              "      <th>0</th>\n",
              "      <th>1</th>\n",
              "      <th>2</th>\n",
              "      <th>3</th>\n",
              "      <th>4</th>\n",
              "    </tr>\n",
              "  </thead>\n",
              "  <tbody>\n",
              "    <tr>\n",
              "      <th>count</th>\n",
              "      <td>50.000000</td>\n",
              "      <td>50.000000</td>\n",
              "      <td>50.000000</td>\n",
              "      <td>50.000000</td>\n",
              "      <td>50.000000</td>\n",
              "    </tr>\n",
              "    <tr>\n",
              "      <th>mean</th>\n",
              "      <td>-0.454617</td>\n",
              "      <td>-0.103901</td>\n",
              "      <td>-0.224488</td>\n",
              "      <td>-0.796956</td>\n",
              "      <td>-0.576463</td>\n",
              "    </tr>\n",
              "    <tr>\n",
              "      <th>std</th>\n",
              "      <td>0.605700</td>\n",
              "      <td>0.902026</td>\n",
              "      <td>0.652320</td>\n",
              "      <td>0.122736</td>\n",
              "      <td>0.054428</td>\n",
              "    </tr>\n",
              "    <tr>\n",
              "      <th>min</th>\n",
              "      <td>-0.999915</td>\n",
              "      <td>-0.999931</td>\n",
              "      <td>-0.933175</td>\n",
              "      <td>-0.929184</td>\n",
              "      <td>-0.730352</td>\n",
              "    </tr>\n",
              "    <tr>\n",
              "      <th>25%</th>\n",
              "      <td>-0.998979</td>\n",
              "      <td>-0.999337</td>\n",
              "      <td>-0.924206</td>\n",
              "      <td>-0.865289</td>\n",
              "      <td>-0.597834</td>\n",
              "    </tr>\n",
              "    <tr>\n",
              "      <th>50%</th>\n",
              "      <td>-0.431735</td>\n",
              "      <td>-0.193156</td>\n",
              "      <td>0.076867</td>\n",
              "      <td>-0.826015</td>\n",
              "      <td>-0.582649</td>\n",
              "    </tr>\n",
              "    <tr>\n",
              "      <th>75%</th>\n",
              "      <td>-0.426285</td>\n",
              "      <td>0.864718</td>\n",
              "      <td>0.077533</td>\n",
              "      <td>-0.775574</td>\n",
              "      <td>-0.541973</td>\n",
              "    </tr>\n",
              "    <tr>\n",
              "      <th>max</th>\n",
              "      <td>0.919312</td>\n",
              "      <td>0.880835</td>\n",
              "      <td>0.934484</td>\n",
              "      <td>-0.246957</td>\n",
              "      <td>-0.401706</td>\n",
              "    </tr>\n",
              "  </tbody>\n",
              "</table>\n",
              "</div>"
            ],
            "text/plain": [
              "               0          1          2          3          4\n",
              "count  50.000000  50.000000  50.000000  50.000000  50.000000\n",
              "mean   -0.454617  -0.103901  -0.224488  -0.796956  -0.576463\n",
              "std     0.605700   0.902026   0.652320   0.122736   0.054428\n",
              "min    -0.999915  -0.999931  -0.933175  -0.929184  -0.730352\n",
              "25%    -0.998979  -0.999337  -0.924206  -0.865289  -0.597834\n",
              "50%    -0.431735  -0.193156   0.076867  -0.826015  -0.582649\n",
              "75%    -0.426285   0.864718   0.077533  -0.775574  -0.541973\n",
              "max     0.919312   0.880835   0.934484  -0.246957  -0.401706"
            ]
          },
          "metadata": {
            "tags": []
          },
          "execution_count": 2
        }
      ]
    },
    {
      "cell_type": "code",
      "metadata": {
        "id": "5PYLFzOzHV8t",
        "colab_type": "code",
        "outputId": "07d77eb7-1379-4d20-df09-5139a73eda68",
        "colab": {
          "base_uri": "https://localhost:8080/",
          "height": 284
        }
      },
      "source": [
        "df_train_1 = pd.DataFrame(train_dataset['1'])\n",
        "df_test_1  = pd.DataFrame(test_dataset['1'])\n",
        "\n",
        "df_train_1.describe()"
      ],
      "execution_count": 3,
      "outputs": [
        {
          "output_type": "execute_result",
          "data": {
            "text/html": [
              "<div>\n",
              "<style scoped>\n",
              "    .dataframe tbody tr th:only-of-type {\n",
              "        vertical-align: middle;\n",
              "    }\n",
              "\n",
              "    .dataframe tbody tr th {\n",
              "        vertical-align: top;\n",
              "    }\n",
              "\n",
              "    .dataframe thead th {\n",
              "        text-align: right;\n",
              "    }\n",
              "</style>\n",
              "<table border=\"1\" class=\"dataframe\">\n",
              "  <thead>\n",
              "    <tr style=\"text-align: right;\">\n",
              "      <th></th>\n",
              "      <th>0</th>\n",
              "      <th>1</th>\n",
              "      <th>2</th>\n",
              "      <th>3</th>\n",
              "      <th>4</th>\n",
              "    </tr>\n",
              "  </thead>\n",
              "  <tbody>\n",
              "    <tr>\n",
              "      <th>count</th>\n",
              "      <td>50.000000</td>\n",
              "      <td>50.000000</td>\n",
              "      <td>50.000000</td>\n",
              "      <td>50.000000</td>\n",
              "      <td>50.000000</td>\n",
              "    </tr>\n",
              "    <tr>\n",
              "      <th>mean</th>\n",
              "      <td>0.330350</td>\n",
              "      <td>-0.201806</td>\n",
              "      <td>-0.156798</td>\n",
              "      <td>-0.675110</td>\n",
              "      <td>-0.540111</td>\n",
              "    </tr>\n",
              "    <tr>\n",
              "      <th>std</th>\n",
              "      <td>0.646656</td>\n",
              "      <td>0.825911</td>\n",
              "      <td>0.760558</td>\n",
              "      <td>0.227266</td>\n",
              "      <td>0.123972</td>\n",
              "    </tr>\n",
              "    <tr>\n",
              "      <th>min</th>\n",
              "      <td>-0.999097</td>\n",
              "      <td>-0.999338</td>\n",
              "      <td>-0.936612</td>\n",
              "      <td>-0.912692</td>\n",
              "      <td>-0.844211</td>\n",
              "    </tr>\n",
              "    <tr>\n",
              "      <th>25%</th>\n",
              "      <td>-0.232165</td>\n",
              "      <td>-0.950013</td>\n",
              "      <td>-0.673098</td>\n",
              "      <td>-0.808118</td>\n",
              "      <td>-0.608291</td>\n",
              "    </tr>\n",
              "    <tr>\n",
              "      <th>50%</th>\n",
              "      <td>0.351122</td>\n",
              "      <td>-0.911842</td>\n",
              "      <td>-0.661179</td>\n",
              "      <td>-0.723618</td>\n",
              "      <td>-0.550558</td>\n",
              "    </tr>\n",
              "    <tr>\n",
              "      <th>75%</th>\n",
              "      <td>0.889373</td>\n",
              "      <td>0.579163</td>\n",
              "      <td>0.918008</td>\n",
              "      <td>-0.617599</td>\n",
              "      <td>-0.507115</td>\n",
              "    </tr>\n",
              "    <tr>\n",
              "      <th>max</th>\n",
              "      <td>0.933783</td>\n",
              "      <td>0.886309</td>\n",
              "      <td>0.932132</td>\n",
              "      <td>0.155652</td>\n",
              "      <td>-0.169384</td>\n",
              "    </tr>\n",
              "  </tbody>\n",
              "</table>\n",
              "</div>"
            ],
            "text/plain": [
              "               0          1          2          3          4\n",
              "count  50.000000  50.000000  50.000000  50.000000  50.000000\n",
              "mean    0.330350  -0.201806  -0.156798  -0.675110  -0.540111\n",
              "std     0.646656   0.825911   0.760558   0.227266   0.123972\n",
              "min    -0.999097  -0.999338  -0.936612  -0.912692  -0.844211\n",
              "25%    -0.232165  -0.950013  -0.673098  -0.808118  -0.608291\n",
              "50%     0.351122  -0.911842  -0.661179  -0.723618  -0.550558\n",
              "75%     0.889373   0.579163   0.918008  -0.617599  -0.507115\n",
              "max     0.933783   0.886309   0.932132   0.155652  -0.169384"
            ]
          },
          "metadata": {
            "tags": []
          },
          "execution_count": 3
        }
      ]
    },
    {
      "cell_type": "code",
      "metadata": {
        "id": "RJ8jmyWQHV81",
        "colab_type": "code",
        "colab": {}
      },
      "source": [
        "df_train = df_train_0.append(df_train_1)\n",
        "df_test  = df_test_0.append(df_test_1)"
      ],
      "execution_count": 0,
      "outputs": []
    },
    {
      "cell_type": "markdown",
      "metadata": {
        "id": "BAnr_D-KnVKx",
        "colab_type": "text"
      },
      "source": [
        "We can look at data distribution of each single component to see if the classes are easily separable."
      ]
    },
    {
      "cell_type": "code",
      "metadata": {
        "id": "iTAGU90LHV9B",
        "colab_type": "code",
        "outputId": "030c69d0-867b-4a6e-d254-dde1ee0d808f",
        "colab": {
          "base_uri": "https://localhost:8080/",
          "height": 244
        }
      },
      "source": [
        "fig, axes = plt.subplots(nrows=1, ncols=5, figsize=(15, 3), sharex=True, sharey=True)\n",
        "\n",
        "for i in np.arange(0, 5):\n",
        "    df_train_0[i].plot.hist(alpha=0.5, ax=axes[i], color='blue', label='Background')\n",
        "    df_train_1[i].plot.hist(alpha=0.5, ax=axes[i], color='orange', label='Signal')\n",
        "    axes[i].set_title(\"Component #\" + str(i + 1))\n",
        "\n",
        "plt.legend()"
      ],
      "execution_count": 7,
      "outputs": [
        {
          "output_type": "execute_result",
          "data": {
            "text/plain": [
              "<matplotlib.legend.Legend at 0x7f4bff268ba8>"
            ]
          },
          "metadata": {
            "tags": []
          },
          "execution_count": 7
        },
        {
          "output_type": "display_data",
          "data": {
            "image/png": "[encoded data removed]",
            "text/plain": [
              "<Figure size 1080x216 with 5 Axes>"
            ]
          },
          "metadata": {
            "tags": []
          }
        }
      ]
    },
    {
      "cell_type": "markdown",
      "metadata": {
        "id": "RSXBHc2ct9Q3",
        "colab_type": "text"
      },
      "source": [
        "Since data is 5D, it is not easily plottable, but we can plot each component against each other."
      ]
    },
    {
      "cell_type": "code",
      "metadata": {
        "id": "_GJCOpvOHV9F",
        "colab_type": "code",
        "outputId": "e25b2d47-69ad-4d0f-efab-7fe258f33e34",
        "colab": {
          "base_uri": "https://localhost:8080/",
          "height": 910
        }
      },
      "source": [
        "fig, axes = plt.subplots(nrows=4, ncols=4, figsize=(15, 15), sharex=True, sharey=True)\n",
        "\n",
        "all_unique_tupes = [(i, j) for i in range(0, 5) for j in range(i+1, 5)]\n",
        "for i, j in all_unique_tupes:\n",
        "        df_train_0.plot.scatter(x=i, y=j, alpha=0.3, ax=axes[i, j-1], c='blue', label='Background') \n",
        "        df_train_1.plot.scatter(x=i, y=j, alpha=0.3, ax=axes[i, j-1], c='orange', label='Signal')\n",
        "        axes[i, j-1].set_title(\"Components \" + str((i, j)))\n",
        "\n",
        "plt.legend()"
      ],
      "execution_count": 10,
      "outputs": [
        {
          "output_type": "execute_result",
          "data": {
            "text/plain": [
              "<matplotlib.legend.Legend at 0x7f4bfd52d6a0>"
            ]
          },
          "metadata": {
            "tags": []
          },
          "execution_count": 10
        },
        {
          "output_type": "display_data",
          "data": {
            "image/png": "[encoded data removed]",
            "text/plain": [
              "<Figure size 1080x1080 with 16 Axes>"
            ]
          },
          "metadata": {
            "tags": []
          }
        }
      ]
    },
    {
      "cell_type": "markdown",
      "metadata": {
        "id": "ljRElNL8HV9O",
        "colab_type": "text"
      },
      "source": [
        "#### Data preprocessing "
      ]
    },
    {
      "cell_type": "code",
      "metadata": {
        "id": "BT3EUUdFHV9R",
        "colab_type": "code",
        "outputId": "0a725abf-e9e1-47b2-cd87-2903bbf5c338",
        "colab": {
          "base_uri": "https://localhost:8080/",
          "height": 244
        }
      },
      "source": [
        "# Zero meaning the data\n",
        "df_train_0 -= df_train.mean()\n",
        "df_train_1 -= df_train.mean()\n",
        "\n",
        "df_test_0 -= df_test.mean()\n",
        "df_test_1 -= df_test.mean()\n",
        "\n",
        "fig, axes = plt.subplots(nrows=1, ncols=5, figsize=(15, 3), sharex=True, sharey=True)\n",
        "\n",
        "for i in np.arange(0, 5):\n",
        "    df_train_0[i].plot.hist(alpha=0.5, ax=axes[i], color='blue', label='Background')\n",
        "    df_train_1[i].plot.hist(alpha=0.5, ax=axes[i], color='orange', label='Signal')\n",
        "    axes[i].set_title(\"Component #\" + str(i + 1))\n",
        "\n",
        "plt.legend()"
      ],
      "execution_count": 11,
      "outputs": [
        {
          "output_type": "execute_result",
          "data": {
            "text/plain": [
              "<matplotlib.legend.Legend at 0x7f4bfb9e15f8>"
            ]
          },
          "metadata": {
            "tags": []
          },
          "execution_count": 11
        },
        {
          "output_type": "display_data",
          "data": {
            "image/png": "[encoded data removed]",
            "text/plain": [
              "<Figure size 1080x216 with 5 Axes>"
            ]
          },
          "metadata": {
            "tags": []
          }
        }
      ]
    },
    {
      "cell_type": "markdown",
      "metadata": {
        "id": "g-y0wTyOwZic",
        "colab_type": "text"
      },
      "source": [
        "Preparing the data"
      ]
    },
    {
      "cell_type": "code",
      "metadata": {
        "id": "6HTOZp3_HV9a",
        "colab_type": "code",
        "colab": {}
      },
      "source": [
        "from sklearn.utils import shuffle\n",
        "\n",
        "X_train = np.append(df_train_0.values, df_train_1.values, axis=0)\n",
        "y_train = np.array([[0] * len(df_train_0), [1] * len(df_train_1)]).reshape(1,-1)[0]\n",
        "\n",
        "X_test = np.append(df_test_0.values, df_test_1.values, axis=0)\n",
        "y_test = np.array([[0] * len(df_test_0), [1] * len(df_train_1)]).reshape(1,-1)[0]\n",
        "\n",
        "X_train, y_train = shuffle(X_train, y_train)\n",
        "X_test,  y_test  = shuffle(X_test,  y_test)"
      ],
      "execution_count": 0,
      "outputs": []
    },
    {
      "cell_type": "markdown",
      "metadata": {
        "id": "LTBRIyFBHV9f",
        "colab_type": "text"
      },
      "source": [
        "#### SVMs"
      ]
    },
    {
      "cell_type": "code",
      "metadata": {
        "id": "Lzy9k8lUHV9i",
        "colab_type": "code",
        "outputId": "7b004b4e-bf17-424e-a728-e4c291bf6b37",
        "colab": {
          "base_uri": "https://localhost:8080/",
          "height": 218
        }
      },
      "source": [
        "from sklearn import svm\n",
        "from sklearn.metrics import classification_report\n",
        "\n",
        "clf_svm = svm.SVC(gamma='auto')\n",
        "clf_svm.fit(X_train, y_train)\n",
        "\n",
        "print(\"SVM accuracy on the test data: {}\".format(clf_svm.score(X_test, y_test)))\n",
        "print(\"SVM support vector amount: {}\".format(clf_svm.n_support_))\n",
        "\n",
        "y_pred = clf_svm.predict(X_test)\n",
        "print(\"SVM report: \\n {}\".format(classification_report(y_test, y_pred)))"
      ],
      "execution_count": 21,
      "outputs": [
        {
          "output_type": "stream",
          "text": [
            "SVM accuracy on the test data: 0.71\n",
            "SVM support vector amount: [29 30]\n",
            "SVM report: \n",
            "               precision    recall  f1-score   support\n",
            "\n",
            "           0       0.67      0.82      0.74        50\n",
            "           1       0.77      0.60      0.67        50\n",
            "\n",
            "    accuracy                           0.71       100\n",
            "   macro avg       0.72      0.71      0.71       100\n",
            "weighted avg       0.72      0.71      0.71       100\n",
            "\n"
          ],
          "name": "stdout"
        }
      ]
    },
    {
      "cell_type": "markdown",
      "metadata": {
        "id": "q9xb4ashHV9t",
        "colab_type": "text"
      },
      "source": [
        "Softening the margin with lower C as we have a lot of overlapping data"
      ]
    },
    {
      "cell_type": "code",
      "metadata": {
        "colab_type": "code",
        "outputId": "03c0a8e9-98db-40b4-ebb9-e52a1a6477e3",
        "id": "JyFLW_o_kO0i",
        "colab": {
          "base_uri": "https://localhost:8080/",
          "height": 50
        }
      },
      "source": [
        "clf_svm = svm.SVC(C = 1e-1, gamma='auto')\n",
        "clf_svm.fit(X_train, y_train)\n",
        "\n",
        "print(\"SVM accuracy on the test data: {}\".format(clf_svm.score(X_test, y_test)))\n",
        "print(\"SVM support vector amount: {}\".format(clf_svm.n_support_))"
      ],
      "execution_count": 22,
      "outputs": [
        {
          "output_type": "stream",
          "text": [
            "SVM accuracy on the test data: 0.71\n",
            "SVM support vector amount: [50 50]\n"
          ],
          "name": "stdout"
        }
      ]
    },
    {
      "cell_type": "markdown",
      "metadata": {
        "id": "m59O0ZnPHV92",
        "colab_type": "text"
      },
      "source": [
        "As can be seen in the plots above, data seems to cluster in 4 different clusters. We can train separate SVMs for each clusters. "
      ]
    },
    {
      "cell_type": "code",
      "metadata": {
        "id": "PdF7e26yHV93",
        "colab_type": "code",
        "outputId": "a865c17a-0cd6-4532-e337-eb8a96762bde",
        "colab": {
          "base_uri": "https://localhost:8080/",
          "height": 118
        }
      },
      "source": [
        "from sklearn.cluster import KMeans\n",
        "\n",
        "cluster_amount = 4\n",
        "\n",
        "kmeans = KMeans(n_clusters = cluster_amount)\n",
        "clusters_train = kmeans.fit_predict(X_train)\n",
        "clusters_test = kmeans.predict(X_test)\n",
        "\n",
        "score_all = 0\n",
        "for i in range(0, cluster_amount):\n",
        "    clf_svm = svm.SVC(gamma='auto')\n",
        "    clf_svm.fit(X_train[clusters_train == i], y_train[clusters_train == i])\n",
        "    score = clf_svm.score(X_test[clusters_test == i], y_test[clusters_test == i])\n",
        "    print(\"SVM accuracy for class {}: {}\".format(i, score))\n",
        "    \n",
        "    score_all += score\n",
        "print(\"--------------------------\")\n",
        "print(\"Overall average classification accuracy: {}\".format(score_all / cluster_amount))"
      ],
      "execution_count": 24,
      "outputs": [
        {
          "output_type": "stream",
          "text": [
            "SVM accuracy for class 0: 0.5588235294117647\n",
            "SVM accuracy for class 1: 0.8148148148148148\n",
            "SVM accuracy for class 2: 0.75\n",
            "SVM accuracy for class 3: 0.7894736842105263\n",
            "--------------------------\n",
            "Overall average classification accuracy: 0.7282780071092765\n"
          ],
          "name": "stdout"
        }
      ]
    },
    {
      "cell_type": "markdown",
      "metadata": {
        "id": "8T8wYnbVodfi",
        "colab_type": "text"
      },
      "source": [
        "Since one of the clusters have low accuracy, we can try mergening it with its neighbor to see if we can improve the model."
      ]
    },
    {
      "cell_type": "code",
      "metadata": {
        "id": "B-B3bFejoZdV",
        "colab_type": "code",
        "colab": {
          "base_uri": "https://localhost:8080/",
          "height": 101
        },
        "outputId": "c90edd08-a66f-429b-8697-fc25a6c6fb0e"
      },
      "source": [
        "cluster_amount = 3\n",
        "\n",
        "kmeans = KMeans(n_clusters = cluster_amount)\n",
        "clusters_train = kmeans.fit_predict(X_train)\n",
        "clusters_test = kmeans.predict(X_test)\n",
        "\n",
        "score_all = 0\n",
        "for i in range(0, cluster_amount):\n",
        "    clf_svm = svm.SVC(gamma='auto')\n",
        "    clf_svm.fit(X_train[clusters_train == i], y_train[clusters_train == i])\n",
        "    score = clf_svm.score(X_test[clusters_test == i], y_test[clusters_test == i])\n",
        "    print(\"SVM accuracy for class {}: {}\".format(i, score))\n",
        "    \n",
        "    score_all += score\n",
        "print(\"--------------------------\")\n",
        "print(\"Overall average classification accuracy: {}\".format(score_all / cluster_amount))"
      ],
      "execution_count": 25,
      "outputs": [
        {
          "output_type": "stream",
          "text": [
            "SVM accuracy for class 0: 0.6415094339622641\n",
            "SVM accuracy for class 1: 0.8148148148148148\n",
            "SVM accuracy for class 2: 0.75\n",
            "--------------------------\n",
            "Overall average classification accuracy: 0.7354414162590263\n"
          ],
          "name": "stdout"
        }
      ]
    },
    {
      "cell_type": "markdown",
      "metadata": {
        "id": "1u4Nfoh5HV-E",
        "colab_type": "text"
      },
      "source": [
        "#### Random forests"
      ]
    },
    {
      "cell_type": "code",
      "metadata": {
        "id": "biLI_QluHV-P",
        "colab_type": "code",
        "outputId": "cfd284ed-0b96-497f-eb52-160528f4cb69",
        "colab": {
          "base_uri": "https://localhost:8080/",
          "height": 50
        }
      },
      "source": [
        "from sklearn.model_selection import cross_val_score\n",
        "from sklearn.ensemble import RandomForestClassifier\n",
        "\n",
        "clf_rf = RandomForestClassifier(n_estimators = 50, \n",
        "                                max_depth = None, \n",
        "                                min_samples_split = 3)\n",
        "scores = cross_val_score(clf_rf, X_train, y_train, cv=10)\n",
        "print(\"Cross validation mean accuracy: {}\".format(scores.mean()))\n",
        "\n",
        "clf_rf.fit(X_train, y_train)\n",
        "score = clf_rf.score(X_test, y_test)\n",
        "print(\"Random Forest accuracy on the test data: {}\".format(score))"
      ],
      "execution_count": 32,
      "outputs": [
        {
          "output_type": "stream",
          "text": [
            "Cross validation mean accuracy: 0.73\n",
            "Random Forest accuracy on the test data: 0.64\n"
          ],
          "name": "stdout"
        }
      ]
    },
    {
      "cell_type": "markdown",
      "metadata": {
        "id": "Zh81V-61jM4A",
        "colab_type": "text"
      },
      "source": [
        "#### Ensemble learning"
      ]
    },
    {
      "cell_type": "markdown",
      "metadata": {
        "id": "AO4XxZHApC3X",
        "colab_type": "text"
      },
      "source": [
        "We can boost the random forest classifier to see its effect on performance."
      ]
    },
    {
      "cell_type": "code",
      "metadata": {
        "id": "zWap93aoHV-X",
        "colab_type": "code",
        "outputId": "7f1cc931-83f7-4bc1-f362-8d09f08d1e1f",
        "colab": {
          "base_uri": "https://localhost:8080/",
          "height": 50
        }
      },
      "source": [
        "from sklearn.ensemble import AdaBoostClassifier\n",
        "\n",
        "clf = AdaBoostClassifier(clf_rf)\n",
        "scores = cross_val_score(clf, X_train, y_train, cv=10)\n",
        "print(\"Cross validation mean accuracy: {}\".format(scores.mean()))\n",
        "\n",
        "clf.fit(X_train, y_train)\n",
        "score = clf.score(X_test, y_test)\n",
        "print(\"Boosted Random Forest accuracy on the test data: {}\".format(score))"
      ],
      "execution_count": 36,
      "outputs": [
        {
          "output_type": "stream",
          "text": [
            "Cross validation mean accuracy: 0.7700000000000001\n",
            "Boosted Random Forest accuracy on the test data: 0.65\n"
          ],
          "name": "stdout"
        }
      ]
    },
    {
      "cell_type": "markdown",
      "metadata": {
        "id": "wiujznGzpNR4",
        "colab_type": "text"
      },
      "source": [
        "We can combine two weak classifiers together to get a stronger classifer"
      ]
    },
    {
      "cell_type": "code",
      "metadata": {
        "id": "nS0mfXa-jSBV",
        "colab_type": "code",
        "colab": {
          "base_uri": "https://localhost:8080/",
          "height": 50
        },
        "outputId": "21b99a24-993a-4ad4-d2c8-c61d26d57512"
      },
      "source": [
        "from sklearn.ensemble import VotingClassifier\n",
        "\n",
        "clf_svm = svm.SVC(gamma='auto', probability=True)\n",
        "clf_rf = RandomForestClassifier(n_estimators = 200, \n",
        "                                max_depth = None, \n",
        "                                min_samples_split = 3)\n",
        "clf = VotingClassifier(estimators=[\n",
        "                                   ('svm', clf_svm), \n",
        "                                   ('rf',  clf_rf)\n",
        "                                   ], voting='soft')\n",
        "scores = cross_val_score(clf, X_train, y_train, cv=10)\n",
        "print(\"Cross validation mean accuracy: {}\".format(scores.mean()))\n",
        "\n",
        "clf.fit(X_train, y_train)\n",
        "score = clf.score(X_test, y_test)\n",
        "print(\"Boosted Random Forest accuracy on the test data: {}\".format(score))"
      ],
      "execution_count": 37,
      "outputs": [
        {
          "output_type": "stream",
          "text": [
            "Cross validation mean accuracy: 0.76\n",
            "Boosted Random Forest accuracy on the test data: 0.71\n"
          ],
          "name": "stdout"
        }
      ]
    },
    {
      "cell_type": "markdown",
      "metadata": {
        "id": "vJJX_GdiHV-k",
        "colab_type": "text"
      },
      "source": [
        "#### Artificial Neural Networks"
      ]
    },
    {
      "cell_type": "code",
      "metadata": {
        "id": "wci0MVHSHV-m",
        "colab_type": "code",
        "outputId": "be3ce789-5eb6-4368-9148-6b3e867b154d",
        "colab": {
          "base_uri": "https://localhost:8080/",
          "height": 689
        }
      },
      "source": [
        "import tensorflow as tf\n",
        "import keras\n",
        "\n",
        "# Stochastic hyperparameter search\n",
        "count = 20\n",
        "max_score = 0\n",
        "\n",
        "while (count > 0):\n",
        "  count = count - 1\n",
        "\n",
        "  neurons_1 = np.random.choice(np.arange(3, 8))\n",
        "  neurons_2 = np.random.choice(np.arange(6, 11))\n",
        "  neurons_3 = np.random.choice(np.arange(3, 8))\n",
        "\n",
        "  dropout_1 = np.random.choice(np.arange(2, 7) / 10)\n",
        "  dropout_2 = np.random.choice(np.arange(2, 7) / 10)\n",
        "\n",
        "  init = np.random.choice(['random_uniform', 'random_normal'])\n",
        "  batch = np.random.choice(np.arange(5, 25, 5))\n",
        "\n",
        "  layer_common_params = {\n",
        "    'activation' : 'relu', \n",
        "    'kernel_regularizer' : keras.regularizers.l2(0.01), \n",
        "    'kernel_initializer' : init\n",
        "  }\n",
        "  \n",
        "  model = tf.keras.models.Sequential([\n",
        "    tf.keras.layers.Dense(2 ** neurons_1, input_dim = 5, **layer_common_params),\n",
        "    tf.keras.layers.BatchNormalization(),\n",
        "    tf.keras.layers.Dense(2 ** neurons_2, **layer_common_params),\n",
        "    tf.keras.layers.Dropout(dropout_1),\n",
        "    tf.keras.layers.Dense(2 ** neurons_3, **layer_common_params),\n",
        "    tf.keras.layers.Dropout(dropout_2),\n",
        "    tf.keras.layers.Dense(1, activation='sigmoid')\n",
        "  ])\n",
        "\n",
        "  model.compile(optimizer='adam',\n",
        "                loss='binary_crossentropy',\n",
        "                metrics=['accuracy'])\n",
        "\n",
        "  model.fit(X_train, y_train, epochs=20, batch_size=batch, verbose=0)\n",
        "\n",
        "  score = model.evaluate(X_test, y_test, verbose=0)[1]\n",
        "  print(\"Score: {} \\n Neurons {}, dropouts {}, inits {}, batch {}\".format(\n",
        "      score,\n",
        "      [neurons_1, neurons_2, neurons_3], \n",
        "      [dropout_1, dropout_2], \n",
        "      init,\n",
        "      batch))\n",
        "  \n",
        "  if score > max_score:\n",
        "    max_score = score\n",
        "    model.save('my_model')"
      ],
      "execution_count": 39,
      "outputs": [
        {
          "output_type": "stream",
          "text": [
            "Score: 0.6800000071525574 \n",
            " Neurons [5, 7, 5], dropouts [0.5, 0.2], inits random_normal, batch 5\n",
            "Score: 0.6600000262260437 \n",
            " Neurons [6, 10, 5], dropouts [0.4, 0.3], inits random_uniform, batch 10\n",
            "Score: 0.75 \n",
            " Neurons [3, 10, 3], dropouts [0.4, 0.6], inits random_normal, batch 20\n",
            "Score: 0.7200000286102295 \n",
            " Neurons [4, 6, 7], dropouts [0.4, 0.6], inits random_normal, batch 10\n",
            "Score: 0.699999988079071 \n",
            " Neurons [5, 10, 4], dropouts [0.6, 0.6], inits random_uniform, batch 10\n",
            "Score: 0.7099999785423279 \n",
            " Neurons [5, 6, 5], dropouts [0.6, 0.5], inits random_normal, batch 5\n",
            "Score: 0.6600000262260437 \n",
            " Neurons [5, 8, 3], dropouts [0.2, 0.4], inits random_uniform, batch 5\n",
            "Score: 0.699999988079071 \n",
            " Neurons [7, 10, 4], dropouts [0.2, 0.2], inits random_normal, batch 20\n",
            "Score: 0.6800000071525574 \n",
            " Neurons [7, 7, 3], dropouts [0.4, 0.2], inits random_uniform, batch 15\n",
            "Score: 0.699999988079071 \n",
            " Neurons [4, 8, 3], dropouts [0.4, 0.6], inits random_normal, batch 10\n",
            "Score: 0.699999988079071 \n",
            " Neurons [7, 8, 3], dropouts [0.5, 0.5], inits random_uniform, batch 5\n",
            "Score: 0.6700000166893005 \n",
            " Neurons [5, 6, 3], dropouts [0.3, 0.3], inits random_uniform, batch 5\n",
            "Score: 0.7300000190734863 \n",
            " Neurons [6, 7, 5], dropouts [0.4, 0.2], inits random_uniform, batch 10\n",
            "Score: 0.7200000286102295 \n",
            " Neurons [5, 8, 3], dropouts [0.6, 0.2], inits random_normal, batch 20\n",
            "Score: 0.6700000166893005 \n",
            " Neurons [4, 8, 3], dropouts [0.2, 0.5], inits random_normal, batch 10\n",
            "Score: 0.7099999785423279 \n",
            " Neurons [4, 6, 4], dropouts [0.5, 0.3], inits random_normal, batch 10\n",
            "Score: 0.6899999976158142 \n",
            " Neurons [6, 8, 5], dropouts [0.4, 0.2], inits random_uniform, batch 15\n",
            "Score: 0.7200000286102295 \n",
            " Neurons [4, 6, 3], dropouts [0.6, 0.2], inits random_uniform, batch 20\n",
            "Score: 0.699999988079071 \n",
            " Neurons [5, 7, 6], dropouts [0.3, 0.4], inits random_uniform, batch 15\n",
            "Score: 0.7200000286102295 \n",
            " Neurons [7, 9, 6], dropouts [0.6, 0.6], inits random_normal, batch 5\n"
          ],
          "name": "stdout"
        }
      ]
    },
    {
      "cell_type": "code",
      "metadata": {
        "id": "dZqOadrw5lcw",
        "colab_type": "code",
        "outputId": "08690a13-9e7f-4745-8c90-08f236d5e7e8",
        "colab": {
          "base_uri": "https://localhost:8080/",
          "height": 34
        }
      },
      "source": [
        "model_loaded = tf.keras.models.load_model('my_model')\n",
        "\n",
        "score = model_loaded.evaluate(X_test, y_test, verbose=0)[1]\n",
        "print(\"Multi Layer Perceptron accuracy on the test data: {}\".format(score))"
      ],
      "execution_count": 41,
      "outputs": [
        {
          "output_type": "stream",
          "text": [
            "Multi Layer Perceptron accuracy on the test data: 0.75\n"
          ],
          "name": "stdout"
        }
      ]
    },
    {
      "cell_type": "markdown",
      "metadata": {
        "id": "uughxqb01PAP",
        "colab_type": "text"
      },
      "source": [
        "As expected, since machine learning algorithms are data hungry, without a sufficient amount of training data convergence is not guaranteed and results / accuracy can very drastically. "
      ]
    }
  ]
}