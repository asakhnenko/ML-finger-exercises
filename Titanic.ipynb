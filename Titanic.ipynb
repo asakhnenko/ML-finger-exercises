{
 "cells": [
  {
   "cell_type": "code",
   "execution_count": 1,
   "metadata": {},
   "outputs": [],
   "source": [
    "import pandas as pd\n",
    "import numpy as np\n",
    "import copy"
   ]
  },
  {
   "cell_type": "markdown",
   "metadata": {},
   "source": [
    "### Get data and remove the unnecessary columns"
   ]
  },
  {
   "cell_type": "code",
   "execution_count": 2,
   "metadata": {},
   "outputs": [
    {
     "data": {
      "text/html": [
       "<div>\n",
       "<style scoped>\n",
       "    .dataframe tbody tr th:only-of-type {\n",
       "        vertical-align: middle;\n",
       "    }\n",
       "\n",
       "    .dataframe tbody tr th {\n",
       "        vertical-align: top;\n",
       "    }\n",
       "\n",
       "    .dataframe thead th {\n",
       "        text-align: right;\n",
       "    }\n",
       "</style>\n",
       "<table border=\"1\" class=\"dataframe\">\n",
       "  <thead>\n",
       "    <tr style=\"text-align: right;\">\n",
       "      <th></th>\n",
       "      <th>Survived</th>\n",
       "      <th>Pclass</th>\n",
       "      <th>Sex</th>\n",
       "      <th>Age</th>\n",
       "      <th>Fare</th>\n",
       "      <th>Embarked</th>\n",
       "      <th>FamMemOnBoard</th>\n",
       "    </tr>\n",
       "  </thead>\n",
       "  <tbody>\n",
       "    <tr>\n",
       "      <th>0</th>\n",
       "      <td>0</td>\n",
       "      <td>3</td>\n",
       "      <td>1</td>\n",
       "      <td>22.0</td>\n",
       "      <td>7.2500</td>\n",
       "      <td>0.0</td>\n",
       "      <td>1</td>\n",
       "    </tr>\n",
       "    <tr>\n",
       "      <th>1</th>\n",
       "      <td>1</td>\n",
       "      <td>1</td>\n",
       "      <td>0</td>\n",
       "      <td>38.0</td>\n",
       "      <td>71.2833</td>\n",
       "      <td>1.0</td>\n",
       "      <td>1</td>\n",
       "    </tr>\n",
       "    <tr>\n",
       "      <th>2</th>\n",
       "      <td>1</td>\n",
       "      <td>3</td>\n",
       "      <td>0</td>\n",
       "      <td>26.0</td>\n",
       "      <td>7.9250</td>\n",
       "      <td>0.0</td>\n",
       "      <td>0</td>\n",
       "    </tr>\n",
       "    <tr>\n",
       "      <th>3</th>\n",
       "      <td>1</td>\n",
       "      <td>1</td>\n",
       "      <td>0</td>\n",
       "      <td>35.0</td>\n",
       "      <td>53.1000</td>\n",
       "      <td>0.0</td>\n",
       "      <td>1</td>\n",
       "    </tr>\n",
       "    <tr>\n",
       "      <th>4</th>\n",
       "      <td>0</td>\n",
       "      <td>3</td>\n",
       "      <td>1</td>\n",
       "      <td>35.0</td>\n",
       "      <td>8.0500</td>\n",
       "      <td>0.0</td>\n",
       "      <td>0</td>\n",
       "    </tr>\n",
       "  </tbody>\n",
       "</table>\n",
       "</div>"
      ],
      "text/plain": [
       "   Survived  Pclass  Sex   Age     Fare  Embarked  FamMemOnBoard\n",
       "0         0       3    1  22.0   7.2500       0.0              1\n",
       "1         1       1    0  38.0  71.2833       1.0              1\n",
       "2         1       3    0  26.0   7.9250       0.0              0\n",
       "3         1       1    0  35.0  53.1000       0.0              1\n",
       "4         0       3    1  35.0   8.0500       0.0              0"
      ]
     },
     "execution_count": 2,
     "metadata": {},
     "output_type": "execute_result"
    }
   ],
   "source": [
    "dataset = pd.read_csv('train_titanic.csv')\n",
    "\n",
    "dataset['Sex'] = dataset['Sex'].replace(['female', 'male'], [0, 1]) \n",
    "dataset['Embarked'] = dataset['Embarked'].replace(['S', 'C', 'Q'], [0, 1, 2])\n",
    "dataset['Embarked'] = dataset['Embarked'].fillna(int(dataset['Embarked'].mean()))\n",
    "dataset['Age'] = dataset['Age'].fillna(int(dataset['Age'].mean()))\n",
    "dataset['FamMemOnBoard'] = dataset['Parch'] + dataset['SibSp']\n",
    "\n",
    "dataset.drop(['PassengerId', 'Name', 'Ticket', 'Parch', 'SibSp', 'Cabin'], axis=1, inplace=True)\n",
    "\n",
    "dataset.head()"
   ]
  },
  {
   "cell_type": "markdown",
   "metadata": {},
   "source": [
    "### Data visualization"
   ]
  },
  {
   "cell_type": "code",
   "execution_count": 73,
   "metadata": {},
   "outputs": [
    {
     "data": {
      "text/plain": [
       "<matplotlib.axes._subplots.AxesSubplot at 0x1fe5e753160>"
      ]
     },
     "execution_count": 73,
     "metadata": {},
     "output_type": "execute_result"
    },
    {
     "data": {
      "image/png": "[encoded data removed]",
      "text/plain": [
       "<Figure size 432x288 with 1 Axes>"
      ]
     },
     "metadata": {
      "needs_background": "light"
     },
     "output_type": "display_data"
    }
   ],
   "source": [
    "survivors = dataset[dataset['Survived'] == 1]\n",
    "non_survivors = dataset[dataset['Survived'] == 0]\n",
    "\n",
    "ax = survivors.plot.scatter(x='Age', y='Fare', color='DarkBlue', label='Survived')\n",
    "non_survivors.plot.scatter(x='Age', y='Fare', color='DarkRed', label='Not survived', ax=ax)"
   ]
  },
  {
   "cell_type": "code",
   "execution_count": 4,
   "metadata": {},
   "outputs": [
    {
     "data": {
      "text/plain": [
       "<matplotlib.axes._subplots.AxesSubplot at 0x1fe55ae9cf8>"
      ]
     },
     "execution_count": 4,
     "metadata": {},
     "output_type": "execute_result"
    },
    {
     "data": {
      "image/png": "[encoded data removed]",
      "text/plain": [
       "<Figure size 432x288 with 1 Axes>"
      ]
     },
     "metadata": {
      "needs_background": "light"
     },
     "output_type": "display_data"
    }
   ],
   "source": [
    "tmp = pd.DataFrame((dataset.groupby(['Sex','Survived'], as_index=False).count()))\n",
    "index = ['female', 'male']\n",
    "\n",
    "tb = pd.DataFrame({'Survived': tmp[tmp['Survived']==1]['Age'].values,\n",
    "                  'Not survived': tmp[tmp['Survived']==0]['Age'].values}, \n",
    "                 index=index)\n",
    "tb.plot.bar(stacked=True)"
   ]
  },
  {
   "cell_type": "code",
   "execution_count": 5,
   "metadata": {},
   "outputs": [
    {
     "data": {
      "text/plain": [
       "<matplotlib.axes._subplots.AxesSubplot at 0x1fe55b4e080>"
      ]
     },
     "execution_count": 5,
     "metadata": {},
     "output_type": "execute_result"
    },
    {
     "data": {
      "image/png": "[encoded data removed]",
      "text/plain": [
       "<Figure size 432x288 with 1 Axes>"
      ]
     },
     "metadata": {
      "needs_background": "light"
     },
     "output_type": "display_data"
    }
   ],
   "source": [
    "tmp = pd.DataFrame((dataset.groupby(['Pclass','Survived'], as_index=False).count()))\n",
    "index = ['Class 1', 'Class 2', 'Class 3']\n",
    "\n",
    "tb = pd.DataFrame({'Survived': tmp[tmp['Survived']==1]['Age'].values,\n",
    "                  'Not survived': tmp[tmp['Survived']==0]['Age'].values}, \n",
    "                 index=index)\n",
    "tb.plot.bar(stacked=True)"
   ]
  },
  {
   "cell_type": "code",
   "execution_count": 6,
   "metadata": {},
   "outputs": [
    {
     "data": {
      "text/plain": [
       "<matplotlib.axes._subplots.AxesSubplot at 0x1fe55b8edd8>"
      ]
     },
     "execution_count": 6,
     "metadata": {},
     "output_type": "execute_result"
    },
    {
     "data": {
      "image/png": "[encoded data removed]",
      "text/plain": [
       "<Figure size 432x288 with 1 Axes>"
      ]
     },
     "metadata": {
      "needs_background": "light"
     },
     "output_type": "display_data"
    }
   ],
   "source": [
    "tmp = pd.DataFrame((dataset.groupby(['Embarked','Survived'], as_index=False).count()))\n",
    "index = ['Southampton', 'Cherbourg', 'Queenstown']\n",
    "\n",
    "tb = pd.DataFrame({'Survived': tmp[tmp['Survived']==1]['Age'].values,\n",
    "                  'Not survived': tmp[tmp['Survived']==0]['Age'].values}, \n",
    "                 index=index)\n",
    "tb.plot.bar(stacked=True)"
   ]
  },
  {
   "cell_type": "markdown",
   "metadata": {},
   "source": [
    "### Split data in training and validation dataset"
   ]
  },
  {
   "cell_type": "code",
   "execution_count": 71,
   "metadata": {},
   "outputs": [],
   "source": [
    "numeric_datapoints = dataset[['Pclass', 'Age', 'Fare', 'FamMemOnBoard', 'Sex', 'Embarked']]\n",
    "targets = dataset['Survived']\n",
    "\n",
    "training_dataset_size = int(numeric_datapoints.shape[0] * 0.9)\n",
    "training_points = numeric_datapoints.head(training_dataset_size)\n",
    "training_labels = targets.head(training_dataset_size)\n",
    "\n",
    "validation_dataset_size = int(numeric_datapoints.shape[0] - training_dataset_size)\n",
    "validation_points = numeric_datapoints.tail(validation_dataset_size).reset_index(drop = True)\n",
    "validation_labels = targets.tail(validation_dataset_size).reset_index(drop = True)"
   ]
  },
  {
   "cell_type": "markdown",
   "metadata": {},
   "source": [
    "### Decision trees for classification"
   ]
  },
  {
   "cell_type": "code",
   "execution_count": 8,
   "metadata": {},
   "outputs": [],
   "source": [
    "import decision_trees\n",
    "m_tree = decision_trees.ClassificationDecisionTree()\n",
    "m_tree.train(training_points, training_labels, max_depth = 6)"
   ]
  },
  {
   "cell_type": "code",
   "execution_count": 9,
   "metadata": {},
   "outputs": [],
   "source": [
    "def check_accuracy(tree, data, labels):\n",
    "    positives = np.sum([labels.loc[i] == int(tree.predict(data.loc[[i]])) for i in range(data.shape[0])])\n",
    "    return int( (positives / data.shape[0]) * 100)\n",
    "\n",
    "def calculate_error(prunned_subtree, test_data, test_labels):\n",
    "    while prunned_subtree.parent is not None:\n",
    "        prunned_subtree = prunned_subtree.parent\n",
    "    return 100 - check_accuracy(prunned_subtree, test_data, test_labels)\n",
    "    \n",
    "def reduced_error_pruning(tree, best_tree, best_error, test_data, test_labels):\n",
    "    # Recursion anchor\n",
    "    if tree.right is None:\n",
    "        return best_tree, best_error\n",
    "    \n",
    "    # Prunning current subtree\n",
    "    prunned_tree = copy.deepcopy(tree)\n",
    "    \n",
    "    prunned_tree.right = None\n",
    "    prunned_tree.left = None\n",
    "    prunned_tree.label = str(decision_trees.ClassificationDecisionTree.dominatingClass(test_labels))\n",
    "    prunned_tree_error = calculate_error(prunned_tree, test_data, test_labels)\n",
    "    \n",
    "    if prunned_tree_error < best_error:\n",
    "        best_tree = prunned_tree\n",
    "        best_error = prunned_tree_error\n",
    "\n",
    "    # Recursive call\n",
    "    reduced_error_pruning(tree.right, best_tree, best_error, test_data, test_labels)\n",
    "    reduced_error_pruning(tree.left, best_tree, best_error, test_data, test_labels)"
   ]
  },
  {
   "cell_type": "code",
   "execution_count": 10,
   "metadata": {},
   "outputs": [
    {
     "name": "stdout",
     "output_type": "stream",
     "text": [
      "Accuracy: 84 %\n"
     ]
    }
   ],
   "source": [
    "print('Accuracy: {} %'.format(check_accuracy(m_tree, validation_points, validation_labels)))"
   ]
  },
  {
   "cell_type": "markdown",
   "metadata": {},
   "source": [
    "#### Test the algorithm on the test set"
   ]
  },
  {
   "cell_type": "code",
   "execution_count": 11,
   "metadata": {},
   "outputs": [],
   "source": [
    "test = pd.read_csv('test_titanic.csv')\n",
    "\n",
    "test['Sex'] = test['Sex'].replace(['female', 'male'], [0, 1])\n",
    "test['Embarked'] = test['Embarked'].replace(['S', 'C', 'Q'], [0, 1, 2]) \n",
    "test['Age'] = test['Age'].fillna(int(test['Age'].mean()))\n",
    "test['FamMemOnBoard'] = test['Parch'] + test['SibSp']\n",
    "\n",
    "test_important = test[['Pclass', 'Age', 'Fare', 'FamMemOnBoard', 'Sex', 'Embarked']]\n",
    "\n",
    "m_answer = pd.DataFrame()\n",
    "for i in range(test.shape[0]):\n",
    "    prediction = int(m_tree.predict(test_important.loc[[i]]))\n",
    "    passenger_id = int(test.loc[i,'PassengerId'])\n",
    "    m_answer = m_answer.append({'PassengerId':test.loc[i,'PassengerId'], 'Survived': prediction},ignore_index=True)\n",
    "m_answer = m_answer.astype('int32')"
   ]
  },
  {
   "cell_type": "code",
   "execution_count": 12,
   "metadata": {},
   "outputs": [],
   "source": [
    "m_answer.to_csv('titanic-dt.csv',index=False)"
   ]
  },
  {
   "cell_type": "markdown",
   "metadata": {},
   "source": [
    "### Generative models for classification"
   ]
  },
  {
   "cell_type": "code",
   "execution_count": 75,
   "metadata": {},
   "outputs": [],
   "source": [
    "import scipy.stats as st\n",
    "\n",
    "survivors = dataset[dataset['Survived'] == 1]\n",
    "survivors = survivors.head(training_dataset_size)\n",
    "survivors.drop('Survived', axis=1, inplace=True)\n",
    "\n",
    "non_survivors = dataset[dataset['Survived'] == 0]\n",
    "non_survivors = non_survivors.head(training_dataset_size)\n",
    "non_survivors.drop('Survived', axis=1, inplace=True)\n",
    "\n",
    "# Binary classification task -> Bernoulli prior\n",
    "# Maximum likelihood estimation\n",
    "positive_examples = (1 / survivors.shape[0]) * training_labels.values.sum()\n",
    "prior = st.bernoulli(positive_examples)  \n",
    "\n",
    "# Class conditionals are multivariate normal \n",
    "# Maximum likelihood estimation\n",
    "mean_survivors = (1 / survivors.shape[0]) * np.sum(survivors.values, axis=0)\n",
    "mean_survivors_sq = (survivors.values - mean_survivors).T @ (survivors.values - mean_survivors)\n",
    "covariance_survivors = (1 / survivors.shape[0]) * mean_survivors_sq\n",
    "conditional_survivors = st.multivariate_normal(mean_survivors, covariance_survivors)\n",
    "\n",
    "mean_non_survivors = (1 / non_survivors.shape[0]) * np.sum(non_survivors.values, axis=0)\n",
    "mean_non_survivors_sq = (non_survivors.values - mean_non_survivors).T @ (non_survivors.values - mean_non_survivors)\n",
    "covariance_non_survivors = (1 / non_survivors.shape[0]) * mean_non_survivors_sq\n",
    "conditional_non_survivors = st.multivariate_normal(mean_non_survivors, covariance_non_survivors)"
   ]
  },
  {
   "cell_type": "code",
   "execution_count": 82,
   "metadata": {},
   "outputs": [],
   "source": [
    "posterior_survivors = lambda x: conditional_survivors.cdf(x) * prior.cdf(x)\n",
    "posterior_non_survivors = lambda x: conditional_non_survivors.cdf(x) * prior.cdf(x)\n",
    "predictive_distribution = lambda x: posterior_survivors(x) / (posterior_survivors(x) + posterior_non_survivors(x))"
   ]
  }
 ],
 "metadata": {
  "kernelspec": {
   "display_name": "Python 3",
   "language": "python",
   "name": "python3"
  },
  "language_info": {
   "codemirror_mode": {
    "name": "ipython",
    "version": 3
   },
   "file_extension": ".py",
   "mimetype": "text/x-python",
   "name": "python",
   "nbconvert_exporter": "python",
   "pygments_lexer": "ipython3",
   "version": "3.5.2"
  }
 },
 "nbformat": 4,
 "nbformat_minor": 2
}
