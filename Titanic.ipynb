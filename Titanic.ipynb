{
 "cells": [
  {
   "cell_type": "code",
   "execution_count": 1,
   "metadata": {},
   "outputs": [],
   "source": [
    "import pandas as pd\n",
    "import numpy as np\n",
    "import copy"
   ]
  },
  {
   "cell_type": "markdown",
   "metadata": {},
   "source": [
    "### Get data"
   ]
  },
  {
   "cell_type": "code",
   "execution_count": 2,
   "metadata": {},
   "outputs": [
    {
     "data": {
      "text/html": [
       "<div>\n",
       "<style scoped>\n",
       "    .dataframe tbody tr th:only-of-type {\n",
       "        vertical-align: middle;\n",
       "    }\n",
       "\n",
       "    .dataframe tbody tr th {\n",
       "        vertical-align: top;\n",
       "    }\n",
       "\n",
       "    .dataframe thead th {\n",
       "        text-align: right;\n",
       "    }\n",
       "</style>\n",
       "<table border=\"1\" class=\"dataframe\">\n",
       "  <thead>\n",
       "    <tr style=\"text-align: right;\">\n",
       "      <th></th>\n",
       "      <th>PassengerId</th>\n",
       "      <th>Survived</th>\n",
       "      <th>Pclass</th>\n",
       "      <th>Name</th>\n",
       "      <th>Sex</th>\n",
       "      <th>Age</th>\n",
       "      <th>SibSp</th>\n",
       "      <th>Parch</th>\n",
       "      <th>Ticket</th>\n",
       "      <th>Fare</th>\n",
       "      <th>Cabin</th>\n",
       "      <th>Embarked</th>\n",
       "    </tr>\n",
       "  </thead>\n",
       "  <tbody>\n",
       "    <tr>\n",
       "      <th>0</th>\n",
       "      <td>1</td>\n",
       "      <td>0</td>\n",
       "      <td>3</td>\n",
       "      <td>Braund, Mr. Owen Harris</td>\n",
       "      <td>1</td>\n",
       "      <td>22.0</td>\n",
       "      <td>1</td>\n",
       "      <td>0</td>\n",
       "      <td>A/5 21171</td>\n",
       "      <td>7.2500</td>\n",
       "      <td>NaN</td>\n",
       "      <td>0.0</td>\n",
       "    </tr>\n",
       "    <tr>\n",
       "      <th>1</th>\n",
       "      <td>2</td>\n",
       "      <td>1</td>\n",
       "      <td>1</td>\n",
       "      <td>Cumings, Mrs. John Bradley (Florence Briggs Th...</td>\n",
       "      <td>0</td>\n",
       "      <td>38.0</td>\n",
       "      <td>1</td>\n",
       "      <td>0</td>\n",
       "      <td>PC 17599</td>\n",
       "      <td>71.2833</td>\n",
       "      <td>C85</td>\n",
       "      <td>1.0</td>\n",
       "    </tr>\n",
       "    <tr>\n",
       "      <th>2</th>\n",
       "      <td>3</td>\n",
       "      <td>1</td>\n",
       "      <td>3</td>\n",
       "      <td>Heikkinen, Miss. Laina</td>\n",
       "      <td>0</td>\n",
       "      <td>26.0</td>\n",
       "      <td>0</td>\n",
       "      <td>0</td>\n",
       "      <td>STON/O2. 3101282</td>\n",
       "      <td>7.9250</td>\n",
       "      <td>NaN</td>\n",
       "      <td>0.0</td>\n",
       "    </tr>\n",
       "  </tbody>\n",
       "</table>\n",
       "</div>"
      ],
      "text/plain": [
       "   PassengerId  Survived  Pclass  \\\n",
       "0            1         0       3   \n",
       "1            2         1       1   \n",
       "2            3         1       3   \n",
       "\n",
       "                                                Name  Sex   Age  SibSp  Parch  \\\n",
       "0                            Braund, Mr. Owen Harris    1  22.0      1      0   \n",
       "1  Cumings, Mrs. John Bradley (Florence Briggs Th...    0  38.0      1      0   \n",
       "2                             Heikkinen, Miss. Laina    0  26.0      0      0   \n",
       "\n",
       "             Ticket     Fare Cabin  Embarked  \n",
       "0         A/5 21171   7.2500   NaN       0.0  \n",
       "1          PC 17599  71.2833   C85       1.0  \n",
       "2  STON/O2. 3101282   7.9250   NaN       0.0  "
      ]
     },
     "execution_count": 2,
     "metadata": {},
     "output_type": "execute_result"
    }
   ],
   "source": [
    "dataset = pd.read_csv('train_titanic.csv')\n",
    "\n",
    "dataset['Sex'] = dataset['Sex'].replace(['female', 'male'], [0, 1]) \n",
    "dataset['Embarked'] = dataset['Embarked'].replace(['S', 'C', 'Q'], [0, 1, 2]) \n",
    "\n",
    "dataset.head(3)"
   ]
  },
  {
   "cell_type": "markdown",
   "metadata": {},
   "source": [
    "### Split data in training and validation dataset"
   ]
  },
  {
   "cell_type": "code",
   "execution_count": 3,
   "metadata": {},
   "outputs": [],
   "source": [
    "numeric_datapoints = dataset[['Pclass', 'Age', 'SibSp', 'Fare', 'Sex', 'Embarked']]\n",
    "targets = dataset['Survived']\n",
    "\n",
    "training_dataset_size = int(numeric_datapoints.shape[0] * 0.8)\n",
    "training_points = numeric_datapoints.head(training_dataset_size)\n",
    "training_labels = targets.head(training_dataset_size)\n",
    "\n",
    "validation_dataset_size = int(numeric_datapoints.shape[0] - training_dataset_size)\n",
    "validation_points = numeric_datapoints.tail(validation_dataset_size).reset_index(drop = True)\n",
    "validation_labels = targets.tail(validation_dataset_size).reset_index(drop = True)"
   ]
  },
  {
   "cell_type": "markdown",
   "metadata": {},
   "source": [
    "### Decision trees for classification"
   ]
  },
  {
   "cell_type": "code",
   "execution_count": 4,
   "metadata": {},
   "outputs": [],
   "source": [
    "import decision_trees\n",
    "m_tree = decision_trees.ClassificationDecisionTree()\n",
    "m_tree.train(training_points, training_labels, max_depth = 3)"
   ]
  },
  {
   "cell_type": "code",
   "execution_count": 5,
   "metadata": {},
   "outputs": [],
   "source": [
    "def check_accuracy(tree, data, labels):\n",
    "    positives = np.sum([labels.loc[i] == int(tree.predict(data.loc[[i]])) for i in range(data.shape[0])])\n",
    "    return int( (positives / data.shape[0]) * 100)\n",
    "\n",
    "def calculate_error(prunned_subtree, test_data, test_labels):\n",
    "    while prunned_subtree.parent is not None:\n",
    "        prunned_subtree = prunned_subtree.parent\n",
    "    return 100 - check_accuracy(prunned_subtree, test_data, test_labels)\n",
    "    \n",
    "def reduced_error_pruning(tree, best_tree, best_error, test_data, test_labels):\n",
    "    # Recursion anchor\n",
    "    if tree.right is None:\n",
    "        return best_tree, best_error\n",
    "    \n",
    "    # Prunning current subtree\n",
    "    prunned_tree = copy.deepcopy(tree)\n",
    "    \n",
    "    prunned_tree.right = None\n",
    "    prunned_tree.left = None\n",
    "    prunned_tree.label = str(decision_trees.ClassificationDecisionTree.dominatingClass(test_labels))\n",
    "    prunned_tree_error = calculate_error(prunned_tree, test_data, test_labels)\n",
    "    \n",
    "    if prunned_tree_error < best_error:\n",
    "        best_tree = prunned_tree\n",
    "        best_error = prunned_tree_error\n",
    "\n",
    "    # Recursive call\n",
    "    reduced_error_pruning(tree.right, best_tree, best_error, test_data, test_labels)\n",
    "    reduced_error_pruning(tree.left, best_tree, best_error, test_data, test_labels)"
   ]
  },
  {
   "cell_type": "code",
   "execution_count": 6,
   "metadata": {},
   "outputs": [
    {
     "name": "stdout",
     "output_type": "stream",
     "text": [
      "Accuracy: 86 %\n"
     ]
    }
   ],
   "source": [
    "print('Accuracy: {} %'.format(check_accuracy(m_tree, validation_points, validation_labels)))"
   ]
  },
  {
   "cell_type": "markdown",
   "metadata": {},
   "source": [
    "### Test the algorithm on the test set"
   ]
  },
  {
   "cell_type": "code",
   "execution_count": 7,
   "metadata": {},
   "outputs": [],
   "source": [
    "test = pd.read_csv('test_titanic.csv')\n",
    "\n",
    "test['Sex'] = test['Sex'].replace(['female', 'male'], [0, 1])\n",
    "test['Embarked'] = test['Embarked'].replace(['S', 'C', 'Q'], [0, 1, 2]) \n",
    "test_important = test[['Pclass', 'Age', 'SibSp', 'Fare', 'Sex', 'Embarked']]\n",
    "\n",
    "m_answer = pd.DataFrame()\n",
    "for i in range(test.shape[0]):\n",
    "    prediction = int(m_tree.predict(test_important.loc[[i]]))\n",
    "    passenger_id = int(test.loc[i,'PassengerId'])\n",
    "    m_answer = m_answer.append({'PassengerId':test.loc[i,'PassengerId'], 'Survived': prediction},ignore_index=True)\n",
    "m_answer = m_answer.astype('int32')"
   ]
  },
  {
   "cell_type": "code",
   "execution_count": null,
   "metadata": {},
   "outputs": [],
   "source": [
    "m_answer.to_csv('titanic-dt.csv',index=False)"
   ]
  }
 ],
 "metadata": {
  "kernelspec": {
   "display_name": "Python 3",
   "language": "python",
   "name": "python3"
  },
  "language_info": {
   "codemirror_mode": {
    "name": "ipython",
    "version": 3
   },
   "file_extension": ".py",
   "mimetype": "text/x-python",
   "name": "python",
   "nbconvert_exporter": "python",
   "pygments_lexer": "ipython3",
   "version": "3.5.2"
  }
 },
 "nbformat": 4,
 "nbformat_minor": 2
}
